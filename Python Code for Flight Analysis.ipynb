{
 "cells": [
  {
   "cell_type": "markdown",
   "id": "06bfb46e",
   "metadata": {},
   "source": [
    "## Pyhton Code Boook\n",
    "##### Programming for Business"
   ]
  },
  {
   "cell_type": "markdown",
   "id": "d686f507",
   "metadata": {},
   "source": [
    "#### Importing Data and Packages"
   ]
  },
  {
   "cell_type": "code",
   "execution_count": 1,
   "id": "ccb21be7",
   "metadata": {},
   "outputs": [],
   "source": [
    "import numpy as np \n",
    "import pandas as pd\n",
    "import seaborn as sns\n",
    "import os\n",
    "import matplotlib.pyplot as plt\n",
    "import scipy as spx \n",
    "import math\n",
    "from pandas.api.types import is_string_dtype\n",
    "from pandas.api.types import is_numeric_dtype\n",
    "import csv\n",
    "import plotly.express as px\n",
    "\n",
    "\n",
    "#Setting the packages\n",
    "sns.set(context=\"notebook\", palette=\"Spectral\", style = 'darkgrid' ,font_scale = 1.5, color_codes=True)\n",
    "import warnings\n",
    "warnings.filterwarnings('ignore')\n",
    "\n",
    "#For geomapping and location\n",
    "from geopy.geocoders import Nominatim\n",
    "geolocator = Nominatim(user_agent='myapplication')\n",
    "from shapely.geometry import Point\n",
    "import geopandas as gpd\n",
    "from geopandas import GeoDataFrame\n",
    "from shapely.geometry import Polygon"
   ]
  },
  {
   "cell_type": "code",
   "execution_count": 2,
   "id": "af78b788",
   "metadata": {},
   "outputs": [],
   "source": [
    "#Importing the excel file\n",
    "xls = pd.ExcelFile(\"DataFile.xlsx\")\n",
    "sheets = xls.sheet_names\n",
    "\n",
    "data_xls = pd.read_excel(\"DataFile.xlsx\", sheet_name = sheets)"
   ]
  },
  {
   "cell_type": "code",
   "execution_count": 3,
   "id": "56d9d1a5",
   "metadata": {
    "scrolled": true
   },
   "outputs": [],
   "source": [
    "#Extracting Data from the data_xls, in which each year will have their own data frame\n",
    "OTP2020_df = data_xls['2020-23 OTP'] \n",
    "Y2020_df = data_xls['2020']\n",
    "Y2019_df = data_xls['2019']\n",
    "Y2018_df = data_xls['2018']\n",
    "Y2017_df = data_xls['2017']\n",
    "Y2016_df = data_xls['2016']\n",
    "Y2015_df = data_xls['2015']\n",
    "Y2014_df = data_xls['2014']\n",
    "Y2013_df = data_xls['2013']\n",
    "Y2012_df = data_xls['2012']\n",
    "Y2011_df = data_xls['2011']\n",
    "Y2010_df = data_xls['2010']\n",
    "\n",
    "list_allyears = [OTP2020_df,Y2020_df,Y2019_df,Y2018_df,Y2017_df,Y2016_df,Y2015_df,Y2014_df,Y2013_df,Y2012_df,Y2011_df,Y2010_df]"
   ]
  },
  {
   "cell_type": "markdown",
   "id": "5261bc36",
   "metadata": {},
   "source": [
    "#### Data Cleaning"
   ]
  },
  {
   "cell_type": "code",
   "execution_count": 4,
   "id": "09d15fff",
   "metadata": {},
   "outputs": [],
   "source": [
    "#Renaming the columns appropriately\n",
    "#We identify that columns with percentages have bad naming format\n",
    "\n",
    "for i in range(len(list_allyears)):\n",
    "    for columns in list_allyears[i]:\n",
    "        list_allyears[i] = list_allyears[i].rename(columns={\"OnTime Departures \\n(%)\":\"OnTime Departures %\",\n",
    "                                      \"OnTime Arrivals \\n(%)\":\"OnTime Arrivals %\",\n",
    "                                      \"Cancellations \\n\\n(%)\":\"Cancellations %\",\n",
    "                                      \"Month\":\"Date\",         \n",
    "                                     })"
   ]
  },
  {
   "cell_type": "code",
   "execution_count": 5,
   "id": "9c2b07b5",
   "metadata": {
    "scrolled": true
   },
   "outputs": [
    {
     "name": "stdout",
     "output_type": "stream",
     "text": [
      "0\n",
      "Route                  0\n",
      "Departing Port         0\n",
      "Arriving Port          0\n",
      "Airline                0\n",
      "Date                   0\n",
      "Sectors Scheduled      0\n",
      "Sectors Flown          0\n",
      "Cancellations          0\n",
      "Departures On Time     0\n",
      "Arrivals On Time       0\n",
      "Departures Delayed     0\n",
      "Arrivals Delayed       0\n",
      "OnTime Departures %    0\n",
      "OnTime Arrivals %      0\n",
      "Cancellations %        0\n",
      "dtype: int64\n",
      "1\n",
      "Route                  0\n",
      "Departing Port         0\n",
      "Arriving Port          0\n",
      "Airline                0\n",
      "Date                   0\n",
      "Sectors Scheduled      0\n",
      "Sectors Flown          0\n",
      "Cancellations          0\n",
      "Departures On Time     0\n",
      "Arrivals On Time       0\n",
      "Departures Delayed     0\n",
      "Arrivals Delayed       0\n",
      "OnTime Departures %    0\n",
      "OnTime Arrivals %      0\n",
      "Cancellations %        0\n",
      "dtype: int64\n",
      "2\n",
      "Route                  0\n",
      "Departing Port         0\n",
      "Arriving Port          0\n",
      "Airline                0\n",
      "Date                   0\n",
      "Sectors Scheduled      0\n",
      "Sectors Flown          0\n",
      "Cancellations          0\n",
      "Departures On Time     0\n",
      "Arrivals On Time       0\n",
      "Departures Delayed     0\n",
      "Arrivals Delayed       0\n",
      "OnTime Departures %    0\n",
      "OnTime Arrivals %      0\n",
      "Cancellations %        0\n",
      "dtype: int64\n",
      "3\n",
      "Route                     0\n",
      "Departing Port            0\n",
      "Arriving Port             0\n",
      "Airline                   0\n",
      "Date                      0\n",
      "Sectors Scheduled         0\n",
      "Sectors Flown             0\n",
      "Cancellations             0\n",
      "Departures On Time        0\n",
      "Arrivals On Time          0\n",
      "Departures Delayed        0\n",
      "Arrivals Delayed          0\n",
      "OnTime Departures %       0\n",
      "OnTime Arrivals %         0\n",
      "Cancellations %           0\n",
      "Unnamed: 15            6548\n",
      "dtype: int64\n",
      "4\n",
      "Route                  0\n",
      "Departing Port         0\n",
      "Arriving Port          0\n",
      "Airline                0\n",
      "Date                   0\n",
      "Sectors Scheduled      0\n",
      "Sectors Flown          0\n",
      "Cancellations          0\n",
      "Departures On Time     0\n",
      "Arrivals On Time       0\n",
      "Departures Delayed     0\n",
      "Arrivals Delayed       0\n",
      "OnTime Departures %    0\n",
      "OnTime Arrivals %      0\n",
      "Cancellations %        0\n",
      "dtype: int64\n",
      "5\n",
      "Route                  0\n",
      "Departing Port         0\n",
      "Arriving Port          0\n",
      "Airline                0\n",
      "Date                   0\n",
      "Sectors Scheduled      0\n",
      "Sectors Flown          0\n",
      "Cancellations          0\n",
      "Departures On Time     0\n",
      "Arrivals On Time       0\n",
      "Departures Delayed     0\n",
      "Arrivals Delayed       0\n",
      "OnTime Departures %    0\n",
      "OnTime Arrivals %      0\n",
      "Cancellations %        0\n",
      "dtype: int64\n",
      "6\n",
      "Route                  0\n",
      "Departing Port         0\n",
      "Arriving Port          0\n",
      "Airline                0\n",
      "Date                   0\n",
      "Sectors Scheduled      0\n",
      "Sectors Flown          0\n",
      "Cancellations          0\n",
      "Departures On Time     0\n",
      "Arrivals On Time       0\n",
      "Departures Delayed     0\n",
      "Arrivals Delayed       0\n",
      "OnTime Departures %    0\n",
      "OnTime Arrivals %      0\n",
      "Cancellations %        0\n",
      "dtype: int64\n",
      "7\n",
      "Route                  0\n",
      "Departing Port         0\n",
      "Arriving Port          0\n",
      "Airline                0\n",
      "Date                   0\n",
      "Sectors Scheduled      0\n",
      "Sectors Flown          0\n",
      "Cancellations          0\n",
      "Departures On Time     0\n",
      "Arrivals On Time       0\n",
      "Departures Delayed     0\n",
      "Arrivals Delayed       0\n",
      "OnTime Departures %    2\n",
      "OnTime Arrivals %      2\n",
      "Cancellations %        0\n",
      "dtype: int64\n",
      "8\n",
      "Route                  0\n",
      "Departing Port         0\n",
      "Arriving Port          0\n",
      "Airline                0\n",
      "Date                   0\n",
      "Sectors Scheduled      0\n",
      "Sectors Flown          0\n",
      "Cancellations          0\n",
      "Departures On Time     0\n",
      "Arrivals On Time       0\n",
      "Departures Delayed     0\n",
      "Arrivals Delayed       0\n",
      "OnTime Departures %    0\n",
      "OnTime Arrivals %      0\n",
      "Cancellations %        0\n",
      "dtype: int64\n",
      "9\n",
      "Route                  2\n",
      "Departing Port         5\n",
      "Arriving Port          5\n",
      "Airline                5\n",
      "Date                   5\n",
      "Sectors Scheduled      5\n",
      "Sectors Flown          5\n",
      "Cancellations          5\n",
      "Departures On Time     5\n",
      "Arrivals On Time       5\n",
      "Departures Delayed     5\n",
      "Arrivals Delayed       5\n",
      "OnTime Departures %    5\n",
      "OnTime Arrivals %      5\n",
      "Cancellations %        5\n",
      "dtype: int64\n",
      "10\n",
      "Route                   0\n",
      "Departing Port          0\n",
      "Arriving Port           0\n",
      "Airline                 0\n",
      "Date                    0\n",
      "Sectors Scheduled       0\n",
      "Sectors Flown           0\n",
      "Cancellations           0\n",
      "Departures On Time      0\n",
      "Arrivals On Time        0\n",
      "Departures Delayed      0\n",
      "Arrivals Delayed        0\n",
      "OnTime Departures %    29\n",
      "OnTime Arrivals %      29\n",
      "Cancellations %        27\n",
      "dtype: int64\n",
      "11\n",
      "Route                  0\n",
      "Departing Port         0\n",
      "Arriving Port          0\n",
      "Airline                0\n",
      "Date                   0\n",
      "Sectors Scheduled      0\n",
      "Sectors Flown          0\n",
      "Cancellations          0\n",
      "Departures On Time     0\n",
      "Arrivals On Time       0\n",
      "Departures Delayed     0\n",
      "Arrivals Delayed       0\n",
      "OnTime Departures %    0\n",
      "OnTime Arrivals %      0\n",
      "Cancellations %        0\n",
      "dtype: int64\n"
     ]
    }
   ],
   "source": [
    "#Identifying how many null values are there\n",
    "\n",
    "for i in range(len(list_allyears)):\n",
    "    print(i)\n",
    "    print(list_allyears[i].isna().sum())\n",
    "\n",
    "#Looking at the results, we find that Y2018 has a null value column which was not intended, called [\"Unnamed: 15\"]\n",
    "#This might possibly from importing\n",
    "\n",
    "#Furthermore, we will also remove the total columns for all the dataframe called All Ports\n",
    "#This is so these summations do not \n",
    "\n",
    "for i in range(len(list_allyears)):\n",
    "    list_allyears[i] = list_allyears[i][list_allyears[i][\"Route\"].str.contains(\"All Ports-All Ports\") == False]\n",
    "\n",
    "#Removing the null column in sheet 4\n",
    "\n",
    "list_allyears[3] = list_allyears[3].drop(columns=\"Unnamed: 15\")\n",
    "\n",
    "#There were also unintended values that were converted with the dataframe in 2012, particularly the last five: index 5231 to 5235\n",
    "\n",
    "list_allyears[9] = list_allyears[9].drop(index=[5233,5234,5235])"
   ]
  },
  {
   "cell_type": "code",
   "execution_count": 6,
   "id": "135b04d8",
   "metadata": {},
   "outputs": [
    {
     "name": "stdout",
     "output_type": "stream",
     "text": [
      "0\n",
      "Route                  0\n",
      "Departing Port         0\n",
      "Arriving Port          0\n",
      "Airline                0\n",
      "Date                   0\n",
      "Sectors Scheduled      0\n",
      "Sectors Flown          0\n",
      "Cancellations          0\n",
      "Departures On Time     0\n",
      "Arrivals On Time       0\n",
      "Departures Delayed     0\n",
      "Arrivals Delayed       0\n",
      "OnTime Departures %    0\n",
      "OnTime Arrivals %      0\n",
      "Cancellations %        0\n",
      "dtype: int64\n",
      "1\n",
      "Route                  0\n",
      "Departing Port         0\n",
      "Arriving Port          0\n",
      "Airline                0\n",
      "Date                   0\n",
      "Sectors Scheduled      0\n",
      "Sectors Flown          0\n",
      "Cancellations          0\n",
      "Departures On Time     0\n",
      "Arrivals On Time       0\n",
      "Departures Delayed     0\n",
      "Arrivals Delayed       0\n",
      "OnTime Departures %    0\n",
      "OnTime Arrivals %      0\n",
      "Cancellations %        0\n",
      "dtype: int64\n",
      "2\n",
      "Route                  0\n",
      "Departing Port         0\n",
      "Arriving Port          0\n",
      "Airline                0\n",
      "Date                   0\n",
      "Sectors Scheduled      0\n",
      "Sectors Flown          0\n",
      "Cancellations          0\n",
      "Departures On Time     0\n",
      "Arrivals On Time       0\n",
      "Departures Delayed     0\n",
      "Arrivals Delayed       0\n",
      "OnTime Departures %    0\n",
      "OnTime Arrivals %      0\n",
      "Cancellations %        0\n",
      "dtype: int64\n",
      "3\n",
      "Route                  0\n",
      "Departing Port         0\n",
      "Arriving Port          0\n",
      "Airline                0\n",
      "Date                   0\n",
      "Sectors Scheduled      0\n",
      "Sectors Flown          0\n",
      "Cancellations          0\n",
      "Departures On Time     0\n",
      "Arrivals On Time       0\n",
      "Departures Delayed     0\n",
      "Arrivals Delayed       0\n",
      "OnTime Departures %    0\n",
      "OnTime Arrivals %      0\n",
      "Cancellations %        0\n",
      "dtype: int64\n",
      "4\n",
      "Route                  0\n",
      "Departing Port         0\n",
      "Arriving Port          0\n",
      "Airline                0\n",
      "Date                   0\n",
      "Sectors Scheduled      0\n",
      "Sectors Flown          0\n",
      "Cancellations          0\n",
      "Departures On Time     0\n",
      "Arrivals On Time       0\n",
      "Departures Delayed     0\n",
      "Arrivals Delayed       0\n",
      "OnTime Departures %    0\n",
      "OnTime Arrivals %      0\n",
      "Cancellations %        0\n",
      "dtype: int64\n",
      "5\n",
      "Route                  0\n",
      "Departing Port         0\n",
      "Arriving Port          0\n",
      "Airline                0\n",
      "Date                   0\n",
      "Sectors Scheduled      0\n",
      "Sectors Flown          0\n",
      "Cancellations          0\n",
      "Departures On Time     0\n",
      "Arrivals On Time       0\n",
      "Departures Delayed     0\n",
      "Arrivals Delayed       0\n",
      "OnTime Departures %    0\n",
      "OnTime Arrivals %      0\n",
      "Cancellations %        0\n",
      "dtype: int64\n",
      "6\n",
      "Route                  0\n",
      "Departing Port         0\n",
      "Arriving Port          0\n",
      "Airline                0\n",
      "Date                   0\n",
      "Sectors Scheduled      0\n",
      "Sectors Flown          0\n",
      "Cancellations          0\n",
      "Departures On Time     0\n",
      "Arrivals On Time       0\n",
      "Departures Delayed     0\n",
      "Arrivals Delayed       0\n",
      "OnTime Departures %    0\n",
      "OnTime Arrivals %      0\n",
      "Cancellations %        0\n",
      "dtype: int64\n",
      "7\n",
      "Route                  0\n",
      "Departing Port         0\n",
      "Arriving Port          0\n",
      "Airline                0\n",
      "Date                   0\n",
      "Sectors Scheduled      0\n",
      "Sectors Flown          0\n",
      "Cancellations          0\n",
      "Departures On Time     0\n",
      "Arrivals On Time       0\n",
      "Departures Delayed     0\n",
      "Arrivals Delayed       0\n",
      "OnTime Departures %    2\n",
      "OnTime Arrivals %      2\n",
      "Cancellations %        0\n",
      "dtype: int64\n",
      "8\n",
      "Route                  0\n",
      "Departing Port         0\n",
      "Arriving Port          0\n",
      "Airline                0\n",
      "Date                   0\n",
      "Sectors Scheduled      0\n",
      "Sectors Flown          0\n",
      "Cancellations          0\n",
      "Departures On Time     0\n",
      "Arrivals On Time       0\n",
      "Departures Delayed     0\n",
      "Arrivals Delayed       0\n",
      "OnTime Departures %    0\n",
      "OnTime Arrivals %      0\n",
      "Cancellations %        0\n",
      "dtype: int64\n",
      "9\n",
      "Route                  0\n",
      "Departing Port         0\n",
      "Arriving Port          0\n",
      "Airline                0\n",
      "Date                   0\n",
      "Sectors Scheduled      0\n",
      "Sectors Flown          0\n",
      "Cancellations          0\n",
      "Departures On Time     0\n",
      "Arrivals On Time       0\n",
      "Departures Delayed     0\n",
      "Arrivals Delayed       0\n",
      "OnTime Departures %    0\n",
      "OnTime Arrivals %      0\n",
      "Cancellations %        0\n",
      "dtype: int64\n",
      "10\n",
      "Route                   0\n",
      "Departing Port          0\n",
      "Arriving Port           0\n",
      "Airline                 0\n",
      "Date                    0\n",
      "Sectors Scheduled       0\n",
      "Sectors Flown           0\n",
      "Cancellations           0\n",
      "Departures On Time      0\n",
      "Arrivals On Time        0\n",
      "Departures Delayed      0\n",
      "Arrivals Delayed        0\n",
      "OnTime Departures %    28\n",
      "OnTime Arrivals %      28\n",
      "Cancellations %        26\n",
      "dtype: int64\n",
      "11\n",
      "Route                  0\n",
      "Departing Port         0\n",
      "Arriving Port          0\n",
      "Airline                0\n",
      "Date                   0\n",
      "Sectors Scheduled      0\n",
      "Sectors Flown          0\n",
      "Cancellations          0\n",
      "Departures On Time     0\n",
      "Arrivals On Time       0\n",
      "Departures Delayed     0\n",
      "Arrivals Delayed       0\n",
      "OnTime Departures %    0\n",
      "OnTime Arrivals %      0\n",
      "Cancellations %        0\n",
      "dtype: int64\n"
     ]
    }
   ],
   "source": [
    "#Validating the removal of nulls\n",
    "\n",
    "for i in range(len(list_allyears)):\n",
    "    print(i)\n",
    "    print(list_allyears[i].isna().sum())\n",
    "    \n",
    "#We also found out that there are \"na\" values wihtin the dataset (with 0 departures and arrivals)\n",
    "#We assume that these cancellations are not indicative of performance related to arrival and departure\n",
    "\n",
    "#We will be keeping these values as they contribute to the cancellation count. \n",
    "#Furthermore, there is a valid reason why they are NA. Nevertheless we will keep them in mind all throughout the code."
   ]
  },
  {
   "cell_type": "code",
   "execution_count": 7,
   "id": "4d2e1689",
   "metadata": {},
   "outputs": [],
   "source": [
    "#Replacing na with blank\n",
    "\n",
    "def remove_na(x):\n",
    "    return(pd.to_numeric(str(x).replace(\"na\",\"\"), errors = 'coerce'))\n",
    "\n",
    "for i in range(len(list_allyears)):\n",
    "    for columns in list_allyears[i]:\n",
    "        list_allyears[i][[\"OnTime Departures %\",\"OnTime Arrivals %\",\"Cancellations %\"]] = list_allyears[i][[\"OnTime Departures %\",\"OnTime Arrivals %\",\"Cancellations %\"]].applymap(remove_na)"
   ]
  },
  {
   "cell_type": "code",
   "execution_count": 8,
   "id": "810d5fb7",
   "metadata": {
    "scrolled": true
   },
   "outputs": [
    {
     "name": "stdout",
     "output_type": "stream",
     "text": [
      "0\n",
      "Route                          object\n",
      "Departing Port                 object\n",
      "Arriving Port                  object\n",
      "Airline                        object\n",
      "Date                   datetime64[ns]\n",
      "Sectors Scheduled               int64\n",
      "Sectors Flown                   int64\n",
      "Cancellations                   int64\n",
      "Departures On Time              int64\n",
      "Arrivals On Time                int64\n",
      "Departures Delayed              int64\n",
      "Arrivals Delayed                int64\n",
      "OnTime Departures %           float64\n",
      "OnTime Arrivals %             float64\n",
      "Cancellations %               float64\n",
      "dtype: object\n",
      "1\n",
      "Route                          object\n",
      "Departing Port                 object\n",
      "Arriving Port                  object\n",
      "Airline                        object\n",
      "Date                   datetime64[ns]\n",
      "Sectors Scheduled               int64\n",
      "Sectors Flown                   int64\n",
      "Cancellations                   int64\n",
      "Departures On Time              int64\n",
      "Arrivals On Time                int64\n",
      "Departures Delayed              int64\n",
      "Arrivals Delayed                int64\n",
      "OnTime Departures %           float64\n",
      "OnTime Arrivals %             float64\n",
      "Cancellations %               float64\n",
      "dtype: object\n",
      "2\n",
      "Route                          object\n",
      "Departing Port                 object\n",
      "Arriving Port                  object\n",
      "Airline                        object\n",
      "Date                   datetime64[ns]\n",
      "Sectors Scheduled               int64\n",
      "Sectors Flown                   int64\n",
      "Cancellations                   int64\n",
      "Departures On Time              int64\n",
      "Arrivals On Time                int64\n",
      "Departures Delayed              int64\n",
      "Arrivals Delayed                int64\n",
      "OnTime Departures %           float64\n",
      "OnTime Arrivals %             float64\n",
      "Cancellations %               float64\n",
      "dtype: object\n",
      "3\n",
      "Route                          object\n",
      "Departing Port                 object\n",
      "Arriving Port                  object\n",
      "Airline                        object\n",
      "Date                   datetime64[ns]\n",
      "Sectors Scheduled               int64\n",
      "Sectors Flown                   int64\n",
      "Cancellations                   int64\n",
      "Departures On Time              int64\n",
      "Arrivals On Time                int64\n",
      "Departures Delayed              int64\n",
      "Arrivals Delayed                int64\n",
      "OnTime Departures %           float64\n",
      "OnTime Arrivals %             float64\n",
      "Cancellations %               float64\n",
      "dtype: object\n",
      "4\n",
      "Route                          object\n",
      "Departing Port                 object\n",
      "Arriving Port                  object\n",
      "Airline                        object\n",
      "Date                   datetime64[ns]\n",
      "Sectors Scheduled               int64\n",
      "Sectors Flown                   int64\n",
      "Cancellations                   int64\n",
      "Departures On Time              int64\n",
      "Arrivals On Time                int64\n",
      "Departures Delayed              int64\n",
      "Arrivals Delayed                int64\n",
      "OnTime Departures %           float64\n",
      "OnTime Arrivals %             float64\n",
      "Cancellations %               float64\n",
      "dtype: object\n",
      "5\n",
      "Route                          object\n",
      "Departing Port                 object\n",
      "Arriving Port                  object\n",
      "Airline                        object\n",
      "Date                   datetime64[ns]\n",
      "Sectors Scheduled               int64\n",
      "Sectors Flown                   int64\n",
      "Cancellations                   int64\n",
      "Departures On Time              int64\n",
      "Arrivals On Time                int64\n",
      "Departures Delayed              int64\n",
      "Arrivals Delayed                int64\n",
      "OnTime Departures %           float64\n",
      "OnTime Arrivals %             float64\n",
      "Cancellations %               float64\n",
      "dtype: object\n",
      "6\n",
      "Route                          object\n",
      "Departing Port                 object\n",
      "Arriving Port                  object\n",
      "Airline                        object\n",
      "Date                   datetime64[ns]\n",
      "Sectors Scheduled               int64\n",
      "Sectors Flown                   int64\n",
      "Cancellations                   int64\n",
      "Departures On Time              int64\n",
      "Arrivals On Time                int64\n",
      "Departures Delayed              int64\n",
      "Arrivals Delayed                int64\n",
      "OnTime Departures %           float64\n",
      "OnTime Arrivals %             float64\n",
      "Cancellations %               float64\n",
      "dtype: object\n",
      "7\n",
      "Route                          object\n",
      "Departing Port                 object\n",
      "Arriving Port                  object\n",
      "Airline                        object\n",
      "Date                   datetime64[ns]\n",
      "Sectors Scheduled               int64\n",
      "Sectors Flown                   int64\n",
      "Cancellations                   int64\n",
      "Departures On Time              int64\n",
      "Arrivals On Time                int64\n",
      "Departures Delayed              int64\n",
      "Arrivals Delayed                int64\n",
      "OnTime Departures %           float64\n",
      "OnTime Arrivals %             float64\n",
      "Cancellations %               float64\n",
      "dtype: object\n",
      "8\n",
      "Route                          object\n",
      "Departing Port                 object\n",
      "Arriving Port                  object\n",
      "Airline                        object\n",
      "Date                   datetime64[ns]\n",
      "Sectors Scheduled               int64\n",
      "Sectors Flown                   int64\n",
      "Cancellations                   int64\n",
      "Departures On Time              int64\n",
      "Arrivals On Time                int64\n",
      "Departures Delayed              int64\n",
      "Arrivals Delayed                int64\n",
      "OnTime Departures %           float64\n",
      "OnTime Arrivals %             float64\n",
      "Cancellations %               float64\n",
      "dtype: object\n",
      "9\n",
      "Route                          object\n",
      "Departing Port                 object\n",
      "Arriving Port                  object\n",
      "Airline                        object\n",
      "Date                   datetime64[ns]\n",
      "Sectors Scheduled             float64\n",
      "Sectors Flown                 float64\n",
      "Cancellations                 float64\n",
      "Departures On Time            float64\n",
      "Arrivals On Time              float64\n",
      "Departures Delayed            float64\n",
      "Arrivals Delayed              float64\n",
      "OnTime Departures %           float64\n",
      "OnTime Arrivals %             float64\n",
      "Cancellations %               float64\n",
      "dtype: object\n",
      "10\n",
      "Route                          object\n",
      "Departing Port                 object\n",
      "Arriving Port                  object\n",
      "Airline                        object\n",
      "Date                   datetime64[ns]\n",
      "Sectors Scheduled               int64\n",
      "Sectors Flown                   int64\n",
      "Cancellations                   int64\n",
      "Departures On Time            float64\n",
      "Arrivals On Time              float64\n",
      "Departures Delayed            float64\n",
      "Arrivals Delayed              float64\n",
      "OnTime Departures %           float64\n",
      "OnTime Arrivals %             float64\n",
      "Cancellations %               float64\n",
      "dtype: object\n",
      "11\n",
      "Route                          object\n",
      "Departing Port                 object\n",
      "Arriving Port                  object\n",
      "Airline                        object\n",
      "Date                   datetime64[ns]\n",
      "Sectors Scheduled               int64\n",
      "Sectors Flown                   int64\n",
      "Cancellations                   int64\n",
      "Departures On Time              int64\n",
      "Arrivals On Time                int64\n",
      "Departures Delayed              int64\n",
      "Arrivals Delayed                int64\n",
      "OnTime Departures %           float64\n",
      "OnTime Arrivals %             float64\n",
      "Cancellations %               float64\n",
      "dtype: object\n"
     ]
    }
   ],
   "source": [
    "#Revalidating the dataformats while considering the errors or nulls\n",
    "#We will be ignoring them in the meantime as they\n",
    "\n",
    "for i in range(len(list_allyears)):\n",
    "    list_allyears[i][\"Route\"].astype(str, errors='ignore')\n",
    "    list_allyears[i][\"Departing Port\"].astype(str,errors='ignore')\n",
    "    list_allyears[i][\"Arriving Port\"].astype(str,errors='ignore')\n",
    "    list_allyears[i][\"Airline\"].astype(str,errors='ignore')\n",
    "    list_allyears[i][\"Date\"].astype('datetime64[ns]',errors='ignore')\n",
    "    list_allyears[i][\"Sectors Scheduled\"].astype(int,errors='ignore')\n",
    "    list_allyears[i][\"Sectors Flown\"].astype(int,errors='ignore')\n",
    "    list_allyears[i][\"Cancellations\"].astype(int,errors='ignore')\n",
    "    list_allyears[i][\"Departures On Time\"].astype(int,errors='ignore')\n",
    "    list_allyears[i][\"Arrivals On Time\"].astype(int,errors='ignore')\n",
    "    list_allyears[i][\"Departures Delayed\"].astype(int,errors='ignore')\n",
    "    list_allyears[i][\"Arrivals Delayed\"].astype(int,errors='ignore')\n",
    "    list_allyears[i][\"OnTime Departures %\"].astype(float,errors='ignore')\n",
    "    list_allyears[i][\"OnTime Arrivals %\"].astype(float,errors='ignore')\n",
    "    list_allyears[i][\"Cancellations %\"].astype(float,errors='ignore')\n",
    "    \n",
    "#Knowing if the data formats are properly validated\n",
    "\n",
    "for i in range(len(list_allyears)):\n",
    "    print(i)\n",
    "    print(list_allyears[i].dtypes)"
   ]
  },
  {
   "cell_type": "markdown",
   "id": "761dfb1b",
   "metadata": {},
   "source": [
    "#### Creating new variables"
   ]
  },
  {
   "cell_type": "code",
   "execution_count": 9,
   "id": "b81ec27d",
   "metadata": {},
   "outputs": [],
   "source": [
    "#Creating year variable\n",
    "\n",
    "def year_var(sheet):\n",
    "    \"\"\"Extracting date details from the date column Date\"\"\"\n",
    "    result_year = []\n",
    "    result_month = []\n",
    "    result_day = []\n",
    "    for element in sheet['Date']:\n",
    "        result_year.append(str(element.year))\n",
    "        result_month.append(str(element.month))\n",
    "        result_day.append(str(element.day))\n",
    "    sheet['Year'] = result_year\n",
    "    sheet['Month'] = result_month\n",
    "    sheet['Day'] = result_day"
   ]
  },
  {
   "cell_type": "code",
   "execution_count": 10,
   "id": "d1f36a42",
   "metadata": {},
   "outputs": [],
   "source": [
    "#Applying the function to all the dataframes\n",
    "\n",
    "for i in range(len(list_allyears)):\n",
    "    year_var(list_allyears[i])"
   ]
  },
  {
   "cell_type": "code",
   "execution_count": 11,
   "id": "2fc6ad50",
   "metadata": {},
   "outputs": [],
   "source": [
    "#To keep data stored well, we will extract the dataframe we need for the problem for each year\n",
    "#Index were reset here since we removed some values and just to be sure, so that functions and element-wise functions can work\n",
    "\n",
    "df2020 = list_allyears[0][list_allyears[0][\"Year\"] == \"2020\"].reset_index(drop=True)\n",
    "df2021 = list_allyears[0][list_allyears[0][\"Year\"] == \"2021\"].reset_index(drop=True)\n",
    "df2022 = list_allyears[0][list_allyears[0][\"Year\"] == \"2022\"].reset_index(drop=True)\n",
    "df2023 = list_allyears[0][list_allyears[0][\"Year\"] == \"2023\"].reset_index(drop=True)\n",
    "\n",
    "df2019 = list_allyears[2].reset_index(drop=True)\n",
    "df2018 = list_allyears[3].reset_index(drop=True)\n",
    "df2017 = list_allyears[4].reset_index(drop=True)\n",
    "df2016 = list_allyears[5].reset_index(drop=True)\n",
    "df2015 = list_allyears[6].reset_index(drop=True)\n",
    "df2014 = list_allyears[7].reset_index(drop=True)\n",
    "df2013 = list_allyears[8].reset_index(drop=True)\n",
    "df2012 = list_allyears[9].reset_index(drop=True)\n",
    "df2011 = list_allyears[10].reset_index(drop=True)\n",
    "df2010 = list_allyears[11].reset_index(drop=True)"
   ]
  },
  {
   "cell_type": "code",
   "execution_count": 12,
   "id": "5e13c67d",
   "metadata": {
    "scrolled": true
   },
   "outputs": [
    {
     "data": {
      "text/html": [
       "<div>\n",
       "<style scoped>\n",
       "    .dataframe tbody tr th:only-of-type {\n",
       "        vertical-align: middle;\n",
       "    }\n",
       "\n",
       "    .dataframe tbody tr th {\n",
       "        vertical-align: top;\n",
       "    }\n",
       "\n",
       "    .dataframe thead th {\n",
       "        text-align: right;\n",
       "    }\n",
       "</style>\n",
       "<table border=\"1\" class=\"dataframe\">\n",
       "  <thead>\n",
       "    <tr style=\"text-align: right;\">\n",
       "      <th></th>\n",
       "      <th>Route</th>\n",
       "      <th>Departing Port</th>\n",
       "      <th>Arriving Port</th>\n",
       "      <th>Airline</th>\n",
       "      <th>Date</th>\n",
       "      <th>Sectors Scheduled</th>\n",
       "      <th>Sectors Flown</th>\n",
       "      <th>Cancellations</th>\n",
       "      <th>Departures On Time</th>\n",
       "      <th>Arrivals On Time</th>\n",
       "      <th>Departures Delayed</th>\n",
       "      <th>Arrivals Delayed</th>\n",
       "      <th>OnTime Departures %</th>\n",
       "      <th>OnTime Arrivals %</th>\n",
       "      <th>Cancellations %</th>\n",
       "      <th>Year</th>\n",
       "      <th>Month</th>\n",
       "      <th>Day</th>\n",
       "    </tr>\n",
       "  </thead>\n",
       "  <tbody>\n",
       "    <tr>\n",
       "      <th>0</th>\n",
       "      <td>Adelaide-Brisbane</td>\n",
       "      <td>Adelaide</td>\n",
       "      <td>Brisbane</td>\n",
       "      <td>Jetstar</td>\n",
       "      <td>2020-01-01</td>\n",
       "      <td>30.0</td>\n",
       "      <td>27.0</td>\n",
       "      <td>3.0</td>\n",
       "      <td>18.0</td>\n",
       "      <td>19.0</td>\n",
       "      <td>9.0</td>\n",
       "      <td>8.0</td>\n",
       "      <td>66.666667</td>\n",
       "      <td>70.370370</td>\n",
       "      <td>10.000000</td>\n",
       "      <td>2020</td>\n",
       "      <td>1</td>\n",
       "      <td>1</td>\n",
       "    </tr>\n",
       "    <tr>\n",
       "      <th>1</th>\n",
       "      <td>Adelaide-Gold Coast</td>\n",
       "      <td>Adelaide</td>\n",
       "      <td>Gold Coast</td>\n",
       "      <td>Jetstar</td>\n",
       "      <td>2020-01-01</td>\n",
       "      <td>31.0</td>\n",
       "      <td>30.0</td>\n",
       "      <td>1.0</td>\n",
       "      <td>15.0</td>\n",
       "      <td>14.0</td>\n",
       "      <td>15.0</td>\n",
       "      <td>16.0</td>\n",
       "      <td>50.000000</td>\n",
       "      <td>46.666667</td>\n",
       "      <td>3.225806</td>\n",
       "      <td>2020</td>\n",
       "      <td>1</td>\n",
       "      <td>1</td>\n",
       "    </tr>\n",
       "    <tr>\n",
       "      <th>2</th>\n",
       "      <td>Adelaide-Melbourne</td>\n",
       "      <td>Adelaide</td>\n",
       "      <td>Melbourne</td>\n",
       "      <td>Jetstar</td>\n",
       "      <td>2020-01-01</td>\n",
       "      <td>119.0</td>\n",
       "      <td>106.0</td>\n",
       "      <td>13.0</td>\n",
       "      <td>61.0</td>\n",
       "      <td>66.0</td>\n",
       "      <td>45.0</td>\n",
       "      <td>40.0</td>\n",
       "      <td>57.547170</td>\n",
       "      <td>62.264151</td>\n",
       "      <td>10.924370</td>\n",
       "      <td>2020</td>\n",
       "      <td>1</td>\n",
       "      <td>1</td>\n",
       "    </tr>\n",
       "    <tr>\n",
       "      <th>3</th>\n",
       "      <td>Adelaide-Perth</td>\n",
       "      <td>Adelaide</td>\n",
       "      <td>Perth</td>\n",
       "      <td>Jetstar</td>\n",
       "      <td>2020-01-01</td>\n",
       "      <td>21.0</td>\n",
       "      <td>20.0</td>\n",
       "      <td>1.0</td>\n",
       "      <td>11.0</td>\n",
       "      <td>16.0</td>\n",
       "      <td>9.0</td>\n",
       "      <td>4.0</td>\n",
       "      <td>55.000000</td>\n",
       "      <td>80.000000</td>\n",
       "      <td>4.761905</td>\n",
       "      <td>2020</td>\n",
       "      <td>1</td>\n",
       "      <td>1</td>\n",
       "    </tr>\n",
       "    <tr>\n",
       "      <th>4</th>\n",
       "      <td>Adelaide-Sydney</td>\n",
       "      <td>Adelaide</td>\n",
       "      <td>Sydney</td>\n",
       "      <td>Jetstar</td>\n",
       "      <td>2020-01-01</td>\n",
       "      <td>91.0</td>\n",
       "      <td>87.0</td>\n",
       "      <td>4.0</td>\n",
       "      <td>69.0</td>\n",
       "      <td>69.0</td>\n",
       "      <td>18.0</td>\n",
       "      <td>18.0</td>\n",
       "      <td>79.310345</td>\n",
       "      <td>79.310345</td>\n",
       "      <td>4.395604</td>\n",
       "      <td>2020</td>\n",
       "      <td>1</td>\n",
       "      <td>1</td>\n",
       "    </tr>\n",
       "    <tr>\n",
       "      <th>...</th>\n",
       "      <td>...</td>\n",
       "      <td>...</td>\n",
       "      <td>...</td>\n",
       "      <td>...</td>\n",
       "      <td>...</td>\n",
       "      <td>...</td>\n",
       "      <td>...</td>\n",
       "      <td>...</td>\n",
       "      <td>...</td>\n",
       "      <td>...</td>\n",
       "      <td>...</td>\n",
       "      <td>...</td>\n",
       "      <td>...</td>\n",
       "      <td>...</td>\n",
       "      <td>...</td>\n",
       "      <td>...</td>\n",
       "      <td>...</td>\n",
       "      <td>...</td>\n",
       "    </tr>\n",
       "    <tr>\n",
       "      <th>78137</th>\n",
       "      <td>Sydney-Wagga Wagga</td>\n",
       "      <td>Sydney</td>\n",
       "      <td>Wagga Wagga</td>\n",
       "      <td>All Airlines</td>\n",
       "      <td>2010-12-01</td>\n",
       "      <td>221.0</td>\n",
       "      <td>221.0</td>\n",
       "      <td>0.0</td>\n",
       "      <td>174.0</td>\n",
       "      <td>149.0</td>\n",
       "      <td>47.0</td>\n",
       "      <td>72.0</td>\n",
       "      <td>78.733032</td>\n",
       "      <td>67.420814</td>\n",
       "      <td>0.000000</td>\n",
       "      <td>2010</td>\n",
       "      <td>12</td>\n",
       "      <td>1</td>\n",
       "    </tr>\n",
       "    <tr>\n",
       "      <th>78138</th>\n",
       "      <td>Townsville-Brisbane</td>\n",
       "      <td>Townsville</td>\n",
       "      <td>Brisbane</td>\n",
       "      <td>All Airlines</td>\n",
       "      <td>2010-12-01</td>\n",
       "      <td>339.0</td>\n",
       "      <td>336.0</td>\n",
       "      <td>3.0</td>\n",
       "      <td>267.0</td>\n",
       "      <td>241.0</td>\n",
       "      <td>69.0</td>\n",
       "      <td>95.0</td>\n",
       "      <td>79.464286</td>\n",
       "      <td>71.726190</td>\n",
       "      <td>0.884956</td>\n",
       "      <td>2010</td>\n",
       "      <td>12</td>\n",
       "      <td>1</td>\n",
       "    </tr>\n",
       "    <tr>\n",
       "      <th>78139</th>\n",
       "      <td>Townsville-Cairns</td>\n",
       "      <td>Townsville</td>\n",
       "      <td>Cairns</td>\n",
       "      <td>All Airlines</td>\n",
       "      <td>2010-12-01</td>\n",
       "      <td>186.0</td>\n",
       "      <td>185.0</td>\n",
       "      <td>1.0</td>\n",
       "      <td>121.0</td>\n",
       "      <td>111.0</td>\n",
       "      <td>64.0</td>\n",
       "      <td>74.0</td>\n",
       "      <td>65.405405</td>\n",
       "      <td>60.000000</td>\n",
       "      <td>0.537634</td>\n",
       "      <td>2010</td>\n",
       "      <td>12</td>\n",
       "      <td>1</td>\n",
       "    </tr>\n",
       "    <tr>\n",
       "      <th>78140</th>\n",
       "      <td>Townsville-Sydney</td>\n",
       "      <td>Townsville</td>\n",
       "      <td>Sydney</td>\n",
       "      <td>All Airlines</td>\n",
       "      <td>2010-12-01</td>\n",
       "      <td>59.0</td>\n",
       "      <td>59.0</td>\n",
       "      <td>0.0</td>\n",
       "      <td>34.0</td>\n",
       "      <td>39.0</td>\n",
       "      <td>25.0</td>\n",
       "      <td>20.0</td>\n",
       "      <td>57.627119</td>\n",
       "      <td>66.101695</td>\n",
       "      <td>0.000000</td>\n",
       "      <td>2010</td>\n",
       "      <td>12</td>\n",
       "      <td>1</td>\n",
       "    </tr>\n",
       "    <tr>\n",
       "      <th>78141</th>\n",
       "      <td>Wagga Wagga-Sydney</td>\n",
       "      <td>Wagga Wagga</td>\n",
       "      <td>Sydney</td>\n",
       "      <td>All Airlines</td>\n",
       "      <td>2010-12-01</td>\n",
       "      <td>221.0</td>\n",
       "      <td>221.0</td>\n",
       "      <td>0.0</td>\n",
       "      <td>184.0</td>\n",
       "      <td>165.0</td>\n",
       "      <td>37.0</td>\n",
       "      <td>56.0</td>\n",
       "      <td>83.257919</td>\n",
       "      <td>74.660633</td>\n",
       "      <td>0.000000</td>\n",
       "      <td>2010</td>\n",
       "      <td>12</td>\n",
       "      <td>1</td>\n",
       "    </tr>\n",
       "  </tbody>\n",
       "</table>\n",
       "<p>78142 rows × 18 columns</p>\n",
       "</div>"
      ],
      "text/plain": [
       "                     Route Departing Port Arriving Port       Airline  \\\n",
       "0        Adelaide-Brisbane       Adelaide      Brisbane       Jetstar   \n",
       "1      Adelaide-Gold Coast       Adelaide    Gold Coast       Jetstar   \n",
       "2       Adelaide-Melbourne       Adelaide     Melbourne       Jetstar   \n",
       "3           Adelaide-Perth       Adelaide         Perth       Jetstar   \n",
       "4          Adelaide-Sydney       Adelaide        Sydney       Jetstar   \n",
       "...                    ...            ...           ...           ...   \n",
       "78137   Sydney-Wagga Wagga         Sydney   Wagga Wagga  All Airlines   \n",
       "78138  Townsville-Brisbane     Townsville      Brisbane  All Airlines   \n",
       "78139    Townsville-Cairns     Townsville        Cairns  All Airlines   \n",
       "78140    Townsville-Sydney     Townsville        Sydney  All Airlines   \n",
       "78141   Wagga Wagga-Sydney    Wagga Wagga        Sydney  All Airlines   \n",
       "\n",
       "            Date  Sectors Scheduled  Sectors Flown  Cancellations  \\\n",
       "0     2020-01-01               30.0           27.0            3.0   \n",
       "1     2020-01-01               31.0           30.0            1.0   \n",
       "2     2020-01-01              119.0          106.0           13.0   \n",
       "3     2020-01-01               21.0           20.0            1.0   \n",
       "4     2020-01-01               91.0           87.0            4.0   \n",
       "...          ...                ...            ...            ...   \n",
       "78137 2010-12-01              221.0          221.0            0.0   \n",
       "78138 2010-12-01              339.0          336.0            3.0   \n",
       "78139 2010-12-01              186.0          185.0            1.0   \n",
       "78140 2010-12-01               59.0           59.0            0.0   \n",
       "78141 2010-12-01              221.0          221.0            0.0   \n",
       "\n",
       "       Departures On Time  Arrivals On Time  Departures Delayed  \\\n",
       "0                    18.0              19.0                 9.0   \n",
       "1                    15.0              14.0                15.0   \n",
       "2                    61.0              66.0                45.0   \n",
       "3                    11.0              16.0                 9.0   \n",
       "4                    69.0              69.0                18.0   \n",
       "...                   ...               ...                 ...   \n",
       "78137               174.0             149.0                47.0   \n",
       "78138               267.0             241.0                69.0   \n",
       "78139               121.0             111.0                64.0   \n",
       "78140                34.0              39.0                25.0   \n",
       "78141               184.0             165.0                37.0   \n",
       "\n",
       "       Arrivals Delayed  OnTime Departures %  OnTime Arrivals %  \\\n",
       "0                   8.0            66.666667          70.370370   \n",
       "1                  16.0            50.000000          46.666667   \n",
       "2                  40.0            57.547170          62.264151   \n",
       "3                   4.0            55.000000          80.000000   \n",
       "4                  18.0            79.310345          79.310345   \n",
       "...                 ...                  ...                ...   \n",
       "78137              72.0            78.733032          67.420814   \n",
       "78138              95.0            79.464286          71.726190   \n",
       "78139              74.0            65.405405          60.000000   \n",
       "78140              20.0            57.627119          66.101695   \n",
       "78141              56.0            83.257919          74.660633   \n",
       "\n",
       "       Cancellations %  Year Month Day  \n",
       "0            10.000000  2020     1   1  \n",
       "1             3.225806  2020     1   1  \n",
       "2            10.924370  2020     1   1  \n",
       "3             4.761905  2020     1   1  \n",
       "4             4.395604  2020     1   1  \n",
       "...                ...   ...   ...  ..  \n",
       "78137         0.000000  2010    12   1  \n",
       "78138         0.884956  2010    12   1  \n",
       "78139         0.537634  2010    12   1  \n",
       "78140         0.000000  2010    12   1  \n",
       "78141         0.000000  2010    12   1  \n",
       "\n",
       "[78142 rows x 18 columns]"
      ]
     },
     "execution_count": 12,
     "metadata": {},
     "output_type": "execute_result"
    }
   ],
   "source": [
    "#Creating all year dataframe\n",
    "\n",
    "all_years = pd.DataFrame()\n",
    "\n",
    "for dataframes in (df2020,df2021,df2022,df2023,df2019,df2018,df2017,df2016,df2015,df2014,df2013,df2012,df2011,df2010):\n",
    "    all_years =  pd.concat([all_years, dataframes], ignore_index=True)\n",
    "\n",
    "all_years"
   ]
  },
  {
   "cell_type": "markdown",
   "id": "16f4ad01",
   "metadata": {},
   "source": [
    "#### Extracting spatial data"
   ]
  },
  {
   "cell_type": "code",
   "execution_count": 14,
   "id": "cde11605",
   "metadata": {},
   "outputs": [],
   "source": [
    "#Extracting coordinates for geomaps, etc.\n",
    "aggregate_list = {}\n",
    "\n",
    "for column in list(all_years.columns):\n",
    "    if is_numeric_dtype(all_years[column]):\n",
    "        aggr_method = 'sum'\n",
    "    else:\n",
    "        aggr_method = 'first'\n",
    "    aggregate_list.update({column:aggr_method})\n",
    "    \n",
    "port_locations = all_years.groupby('Departing Port').aggregate(aggregate_list).index.values.tolist()\n",
    "\n",
    "geo_list = []\n",
    "\n",
    "for locate in port_locations:\n",
    "    location = geolocator.geocode(locate + \", Australia\", geometry='wkt')\n",
    "    geo_list.append([locate,location.latitude,location.longitude,location.raw[\"geotext\"]])"
   ]
  },
  {
   "cell_type": "code",
   "execution_count": 15,
   "id": "e8354d26",
   "metadata": {},
   "outputs": [],
   "source": [
    "#Creating a dataframe for geo data to match each route\n",
    "\n",
    "#For departure\n",
    "geo_df = pd.DataFrame(geo_list, columns=['Port_dep','latitude_dep','longitude_dep','Polygon'])\n",
    "geo_df[\"Polygon\"] = gpd.GeoSeries.from_wkt(geo_df[\"Polygon\"])\n",
    "geo_df = GeoDataFrame(geo_df, geometry=geo_df[\"Polygon\"]) \n",
    "\n",
    "#For arrival\n",
    "geo_df2 = pd.DataFrame(geo_list, columns=['Port_arr','latitude_arr','longitude_arr','Polygon'])\n",
    "geo_df2[\"Polygon\"] = gpd.GeoSeries.from_wkt(geo_df2[\"Polygon\"])\n",
    "geo_df2 = GeoDataFrame(geo_df2, geometry=geo_df2[\"Polygon\"]) "
   ]
  },
  {
   "cell_type": "code",
   "execution_count": 16,
   "id": "f2aa607b",
   "metadata": {},
   "outputs": [],
   "source": [
    "#Merging with the dataframe for all years\n",
    "\n",
    "all_yearswithcoors = pd.merge(left=all_years,\n",
    "    right=geo_df,\n",
    "    left_on=\"Departing Port\",\n",
    "    right_on=\"Port_dep\",\n",
    "    how=\"left\"\n",
    ")\n",
    "\n",
    "all_yearswithcoors_all = pd.merge(left=all_yearswithcoors,\n",
    "    right=geo_df2,\n",
    "    left_on=\"Arriving Port\",\n",
    "    right_on=\"Port_arr\",\n",
    "    how=\"left\"\n",
    ")\n",
    "\n",
    "all_yearswithcoors_all = all_yearswithcoors_all.drop(columns=[\"Polygon_x\",\"Polygon_y\",\"Port_dep\",\"Port_arr\"])"
   ]
  },
  {
   "cell_type": "code",
   "execution_count": 17,
   "id": "e97b32c8",
   "metadata": {
    "scrolled": true
   },
   "outputs": [
    {
     "data": {
      "text/html": [
       "<div>\n",
       "<style scoped>\n",
       "    .dataframe tbody tr th:only-of-type {\n",
       "        vertical-align: middle;\n",
       "    }\n",
       "\n",
       "    .dataframe tbody tr th {\n",
       "        vertical-align: top;\n",
       "    }\n",
       "\n",
       "    .dataframe thead th {\n",
       "        text-align: right;\n",
       "    }\n",
       "</style>\n",
       "<table border=\"1\" class=\"dataframe\">\n",
       "  <thead>\n",
       "    <tr style=\"text-align: right;\">\n",
       "      <th></th>\n",
       "      <th>Route</th>\n",
       "      <th>Departing Port</th>\n",
       "      <th>Arriving Port</th>\n",
       "      <th>Airline</th>\n",
       "      <th>Date</th>\n",
       "      <th>Sectors Scheduled</th>\n",
       "      <th>Sectors Flown</th>\n",
       "      <th>Cancellations</th>\n",
       "      <th>Departures On Time</th>\n",
       "      <th>Arrivals On Time</th>\n",
       "      <th>...</th>\n",
       "      <th>Cancellations %</th>\n",
       "      <th>Year</th>\n",
       "      <th>Month</th>\n",
       "      <th>Day</th>\n",
       "      <th>latitude_dep</th>\n",
       "      <th>longitude_dep</th>\n",
       "      <th>geometry_x</th>\n",
       "      <th>latitude_arr</th>\n",
       "      <th>longitude_arr</th>\n",
       "      <th>geometry_y</th>\n",
       "    </tr>\n",
       "  </thead>\n",
       "  <tbody>\n",
       "    <tr>\n",
       "      <th>0</th>\n",
       "      <td>Adelaide-Brisbane</td>\n",
       "      <td>Adelaide</td>\n",
       "      <td>Brisbane</td>\n",
       "      <td>Jetstar</td>\n",
       "      <td>2020-01-01</td>\n",
       "      <td>30.0</td>\n",
       "      <td>27.0</td>\n",
       "      <td>3.0</td>\n",
       "      <td>18.0</td>\n",
       "      <td>19.0</td>\n",
       "      <td>...</td>\n",
       "      <td>10.000000</td>\n",
       "      <td>2020</td>\n",
       "      <td>1</td>\n",
       "      <td>1</td>\n",
       "      <td>-34.928181</td>\n",
       "      <td>138.599931</td>\n",
       "      <td>POLYGON ((138.42814 -34.68083, 138.42833 -34.6...</td>\n",
       "      <td>-27.468968</td>\n",
       "      <td>153.023499</td>\n",
       "      <td>MULTIPOLYGON (((152.67969 -27.37226, 152.68640...</td>\n",
       "    </tr>\n",
       "    <tr>\n",
       "      <th>1</th>\n",
       "      <td>Adelaide-Gold Coast</td>\n",
       "      <td>Adelaide</td>\n",
       "      <td>Gold Coast</td>\n",
       "      <td>Jetstar</td>\n",
       "      <td>2020-01-01</td>\n",
       "      <td>31.0</td>\n",
       "      <td>30.0</td>\n",
       "      <td>1.0</td>\n",
       "      <td>15.0</td>\n",
       "      <td>14.0</td>\n",
       "      <td>...</td>\n",
       "      <td>3.225806</td>\n",
       "      <td>2020</td>\n",
       "      <td>1</td>\n",
       "      <td>1</td>\n",
       "      <td>-34.928181</td>\n",
       "      <td>138.599931</td>\n",
       "      <td>POLYGON ((138.42814 -34.68083, 138.42833 -34.6...</td>\n",
       "      <td>-28.002373</td>\n",
       "      <td>153.414599</td>\n",
       "      <td>POLYGON ((153.16891 -27.80122, 153.16893 -27.8...</td>\n",
       "    </tr>\n",
       "    <tr>\n",
       "      <th>2</th>\n",
       "      <td>Adelaide-Melbourne</td>\n",
       "      <td>Adelaide</td>\n",
       "      <td>Melbourne</td>\n",
       "      <td>Jetstar</td>\n",
       "      <td>2020-01-01</td>\n",
       "      <td>119.0</td>\n",
       "      <td>106.0</td>\n",
       "      <td>13.0</td>\n",
       "      <td>61.0</td>\n",
       "      <td>66.0</td>\n",
       "      <td>...</td>\n",
       "      <td>10.924370</td>\n",
       "      <td>2020</td>\n",
       "      <td>1</td>\n",
       "      <td>1</td>\n",
       "      <td>-34.928181</td>\n",
       "      <td>138.599931</td>\n",
       "      <td>POLYGON ((138.42814 -34.68083, 138.42833 -34.6...</td>\n",
       "      <td>-37.814245</td>\n",
       "      <td>144.963173</td>\n",
       "      <td>POLYGON ((144.44405 -37.86413, 144.44429 -37.8...</td>\n",
       "    </tr>\n",
       "    <tr>\n",
       "      <th>3</th>\n",
       "      <td>Adelaide-Perth</td>\n",
       "      <td>Adelaide</td>\n",
       "      <td>Perth</td>\n",
       "      <td>Jetstar</td>\n",
       "      <td>2020-01-01</td>\n",
       "      <td>21.0</td>\n",
       "      <td>20.0</td>\n",
       "      <td>1.0</td>\n",
       "      <td>11.0</td>\n",
       "      <td>16.0</td>\n",
       "      <td>...</td>\n",
       "      <td>4.761905</td>\n",
       "      <td>2020</td>\n",
       "      <td>1</td>\n",
       "      <td>1</td>\n",
       "      <td>-34.928181</td>\n",
       "      <td>138.599931</td>\n",
       "      <td>POLYGON ((138.42814 -34.68083, 138.42833 -34.6...</td>\n",
       "      <td>-31.955893</td>\n",
       "      <td>115.860585</td>\n",
       "      <td>POINT (115.86059 -31.95589)</td>\n",
       "    </tr>\n",
       "    <tr>\n",
       "      <th>4</th>\n",
       "      <td>Adelaide-Sydney</td>\n",
       "      <td>Adelaide</td>\n",
       "      <td>Sydney</td>\n",
       "      <td>Jetstar</td>\n",
       "      <td>2020-01-01</td>\n",
       "      <td>91.0</td>\n",
       "      <td>87.0</td>\n",
       "      <td>4.0</td>\n",
       "      <td>69.0</td>\n",
       "      <td>69.0</td>\n",
       "      <td>...</td>\n",
       "      <td>4.395604</td>\n",
       "      <td>2020</td>\n",
       "      <td>1</td>\n",
       "      <td>1</td>\n",
       "      <td>-34.928181</td>\n",
       "      <td>138.599931</td>\n",
       "      <td>POLYGON ((138.42814 -34.68083, 138.42833 -34.6...</td>\n",
       "      <td>-33.869844</td>\n",
       "      <td>151.208285</td>\n",
       "      <td>POLYGON ((150.26083 -33.71567, 150.27325 -33.7...</td>\n",
       "    </tr>\n",
       "    <tr>\n",
       "      <th>...</th>\n",
       "      <td>...</td>\n",
       "      <td>...</td>\n",
       "      <td>...</td>\n",
       "      <td>...</td>\n",
       "      <td>...</td>\n",
       "      <td>...</td>\n",
       "      <td>...</td>\n",
       "      <td>...</td>\n",
       "      <td>...</td>\n",
       "      <td>...</td>\n",
       "      <td>...</td>\n",
       "      <td>...</td>\n",
       "      <td>...</td>\n",
       "      <td>...</td>\n",
       "      <td>...</td>\n",
       "      <td>...</td>\n",
       "      <td>...</td>\n",
       "      <td>...</td>\n",
       "      <td>...</td>\n",
       "      <td>...</td>\n",
       "      <td>...</td>\n",
       "    </tr>\n",
       "    <tr>\n",
       "      <th>78137</th>\n",
       "      <td>Sydney-Wagga Wagga</td>\n",
       "      <td>Sydney</td>\n",
       "      <td>Wagga Wagga</td>\n",
       "      <td>All Airlines</td>\n",
       "      <td>2010-12-01</td>\n",
       "      <td>221.0</td>\n",
       "      <td>221.0</td>\n",
       "      <td>0.0</td>\n",
       "      <td>174.0</td>\n",
       "      <td>149.0</td>\n",
       "      <td>...</td>\n",
       "      <td>0.000000</td>\n",
       "      <td>2010</td>\n",
       "      <td>12</td>\n",
       "      <td>1</td>\n",
       "      <td>-33.869844</td>\n",
       "      <td>151.208285</td>\n",
       "      <td>POLYGON ((150.26083 -33.71567, 150.27325 -33.7...</td>\n",
       "      <td>-35.115000</td>\n",
       "      <td>147.367778</td>\n",
       "      <td>POLYGON ((146.77878 -35.09841, 146.78246 -35.0...</td>\n",
       "    </tr>\n",
       "    <tr>\n",
       "      <th>78138</th>\n",
       "      <td>Townsville-Brisbane</td>\n",
       "      <td>Townsville</td>\n",
       "      <td>Brisbane</td>\n",
       "      <td>All Airlines</td>\n",
       "      <td>2010-12-01</td>\n",
       "      <td>339.0</td>\n",
       "      <td>336.0</td>\n",
       "      <td>3.0</td>\n",
       "      <td>267.0</td>\n",
       "      <td>241.0</td>\n",
       "      <td>...</td>\n",
       "      <td>0.884956</td>\n",
       "      <td>2010</td>\n",
       "      <td>12</td>\n",
       "      <td>1</td>\n",
       "      <td>-19.256939</td>\n",
       "      <td>146.823954</td>\n",
       "      <td>POINT (146.82395 -19.25694)</td>\n",
       "      <td>-27.468968</td>\n",
       "      <td>153.023499</td>\n",
       "      <td>MULTIPOLYGON (((152.67969 -27.37226, 152.68640...</td>\n",
       "    </tr>\n",
       "    <tr>\n",
       "      <th>78139</th>\n",
       "      <td>Townsville-Cairns</td>\n",
       "      <td>Townsville</td>\n",
       "      <td>Cairns</td>\n",
       "      <td>All Airlines</td>\n",
       "      <td>2010-12-01</td>\n",
       "      <td>186.0</td>\n",
       "      <td>185.0</td>\n",
       "      <td>1.0</td>\n",
       "      <td>121.0</td>\n",
       "      <td>111.0</td>\n",
       "      <td>...</td>\n",
       "      <td>0.537634</td>\n",
       "      <td>2010</td>\n",
       "      <td>12</td>\n",
       "      <td>1</td>\n",
       "      <td>-19.256939</td>\n",
       "      <td>146.823954</td>\n",
       "      <td>POINT (146.82395 -19.25694)</td>\n",
       "      <td>-16.920666</td>\n",
       "      <td>145.772185</td>\n",
       "      <td>POINT (145.77219 -16.92067)</td>\n",
       "    </tr>\n",
       "    <tr>\n",
       "      <th>78140</th>\n",
       "      <td>Townsville-Sydney</td>\n",
       "      <td>Townsville</td>\n",
       "      <td>Sydney</td>\n",
       "      <td>All Airlines</td>\n",
       "      <td>2010-12-01</td>\n",
       "      <td>59.0</td>\n",
       "      <td>59.0</td>\n",
       "      <td>0.0</td>\n",
       "      <td>34.0</td>\n",
       "      <td>39.0</td>\n",
       "      <td>...</td>\n",
       "      <td>0.000000</td>\n",
       "      <td>2010</td>\n",
       "      <td>12</td>\n",
       "      <td>1</td>\n",
       "      <td>-19.256939</td>\n",
       "      <td>146.823954</td>\n",
       "      <td>POINT (146.82395 -19.25694)</td>\n",
       "      <td>-33.869844</td>\n",
       "      <td>151.208285</td>\n",
       "      <td>POLYGON ((150.26083 -33.71567, 150.27325 -33.7...</td>\n",
       "    </tr>\n",
       "    <tr>\n",
       "      <th>78141</th>\n",
       "      <td>Wagga Wagga-Sydney</td>\n",
       "      <td>Wagga Wagga</td>\n",
       "      <td>Sydney</td>\n",
       "      <td>All Airlines</td>\n",
       "      <td>2010-12-01</td>\n",
       "      <td>221.0</td>\n",
       "      <td>221.0</td>\n",
       "      <td>0.0</td>\n",
       "      <td>184.0</td>\n",
       "      <td>165.0</td>\n",
       "      <td>...</td>\n",
       "      <td>0.000000</td>\n",
       "      <td>2010</td>\n",
       "      <td>12</td>\n",
       "      <td>1</td>\n",
       "      <td>-35.115000</td>\n",
       "      <td>147.367778</td>\n",
       "      <td>POLYGON ((146.77878 -35.09841, 146.78246 -35.0...</td>\n",
       "      <td>-33.869844</td>\n",
       "      <td>151.208285</td>\n",
       "      <td>POLYGON ((150.26083 -33.71567, 150.27325 -33.7...</td>\n",
       "    </tr>\n",
       "  </tbody>\n",
       "</table>\n",
       "<p>78142 rows × 24 columns</p>\n",
       "</div>"
      ],
      "text/plain": [
       "                     Route Departing Port Arriving Port       Airline  \\\n",
       "0        Adelaide-Brisbane       Adelaide      Brisbane       Jetstar   \n",
       "1      Adelaide-Gold Coast       Adelaide    Gold Coast       Jetstar   \n",
       "2       Adelaide-Melbourne       Adelaide     Melbourne       Jetstar   \n",
       "3           Adelaide-Perth       Adelaide         Perth       Jetstar   \n",
       "4          Adelaide-Sydney       Adelaide        Sydney       Jetstar   \n",
       "...                    ...            ...           ...           ...   \n",
       "78137   Sydney-Wagga Wagga         Sydney   Wagga Wagga  All Airlines   \n",
       "78138  Townsville-Brisbane     Townsville      Brisbane  All Airlines   \n",
       "78139    Townsville-Cairns     Townsville        Cairns  All Airlines   \n",
       "78140    Townsville-Sydney     Townsville        Sydney  All Airlines   \n",
       "78141   Wagga Wagga-Sydney    Wagga Wagga        Sydney  All Airlines   \n",
       "\n",
       "            Date  Sectors Scheduled  Sectors Flown  Cancellations  \\\n",
       "0     2020-01-01               30.0           27.0            3.0   \n",
       "1     2020-01-01               31.0           30.0            1.0   \n",
       "2     2020-01-01              119.0          106.0           13.0   \n",
       "3     2020-01-01               21.0           20.0            1.0   \n",
       "4     2020-01-01               91.0           87.0            4.0   \n",
       "...          ...                ...            ...            ...   \n",
       "78137 2010-12-01              221.0          221.0            0.0   \n",
       "78138 2010-12-01              339.0          336.0            3.0   \n",
       "78139 2010-12-01              186.0          185.0            1.0   \n",
       "78140 2010-12-01               59.0           59.0            0.0   \n",
       "78141 2010-12-01              221.0          221.0            0.0   \n",
       "\n",
       "       Departures On Time  Arrivals On Time  ...  Cancellations %  Year  \\\n",
       "0                    18.0              19.0  ...        10.000000  2020   \n",
       "1                    15.0              14.0  ...         3.225806  2020   \n",
       "2                    61.0              66.0  ...        10.924370  2020   \n",
       "3                    11.0              16.0  ...         4.761905  2020   \n",
       "4                    69.0              69.0  ...         4.395604  2020   \n",
       "...                   ...               ...  ...              ...   ...   \n",
       "78137               174.0             149.0  ...         0.000000  2010   \n",
       "78138               267.0             241.0  ...         0.884956  2010   \n",
       "78139               121.0             111.0  ...         0.537634  2010   \n",
       "78140                34.0              39.0  ...         0.000000  2010   \n",
       "78141               184.0             165.0  ...         0.000000  2010   \n",
       "\n",
       "       Month  Day  latitude_dep longitude_dep  \\\n",
       "0          1    1    -34.928181    138.599931   \n",
       "1          1    1    -34.928181    138.599931   \n",
       "2          1    1    -34.928181    138.599931   \n",
       "3          1    1    -34.928181    138.599931   \n",
       "4          1    1    -34.928181    138.599931   \n",
       "...      ...  ...           ...           ...   \n",
       "78137     12    1    -33.869844    151.208285   \n",
       "78138     12    1    -19.256939    146.823954   \n",
       "78139     12    1    -19.256939    146.823954   \n",
       "78140     12    1    -19.256939    146.823954   \n",
       "78141     12    1    -35.115000    147.367778   \n",
       "\n",
       "                                              geometry_x latitude_arr  \\\n",
       "0      POLYGON ((138.42814 -34.68083, 138.42833 -34.6...   -27.468968   \n",
       "1      POLYGON ((138.42814 -34.68083, 138.42833 -34.6...   -28.002373   \n",
       "2      POLYGON ((138.42814 -34.68083, 138.42833 -34.6...   -37.814245   \n",
       "3      POLYGON ((138.42814 -34.68083, 138.42833 -34.6...   -31.955893   \n",
       "4      POLYGON ((138.42814 -34.68083, 138.42833 -34.6...   -33.869844   \n",
       "...                                                  ...          ...   \n",
       "78137  POLYGON ((150.26083 -33.71567, 150.27325 -33.7...   -35.115000   \n",
       "78138                        POINT (146.82395 -19.25694)   -27.468968   \n",
       "78139                        POINT (146.82395 -19.25694)   -16.920666   \n",
       "78140                        POINT (146.82395 -19.25694)   -33.869844   \n",
       "78141  POLYGON ((146.77878 -35.09841, 146.78246 -35.0...   -33.869844   \n",
       "\n",
       "       longitude_arr                                         geometry_y  \n",
       "0         153.023499  MULTIPOLYGON (((152.67969 -27.37226, 152.68640...  \n",
       "1         153.414599  POLYGON ((153.16891 -27.80122, 153.16893 -27.8...  \n",
       "2         144.963173  POLYGON ((144.44405 -37.86413, 144.44429 -37.8...  \n",
       "3         115.860585                        POINT (115.86059 -31.95589)  \n",
       "4         151.208285  POLYGON ((150.26083 -33.71567, 150.27325 -33.7...  \n",
       "...              ...                                                ...  \n",
       "78137     147.367778  POLYGON ((146.77878 -35.09841, 146.78246 -35.0...  \n",
       "78138     153.023499  MULTIPOLYGON (((152.67969 -27.37226, 152.68640...  \n",
       "78139     145.772185                        POINT (145.77219 -16.92067)  \n",
       "78140     151.208285  POLYGON ((150.26083 -33.71567, 150.27325 -33.7...  \n",
       "78141     151.208285  POLYGON ((150.26083 -33.71567, 150.27325 -33.7...  \n",
       "\n",
       "[78142 rows x 24 columns]"
      ]
     },
     "execution_count": 17,
     "metadata": {},
     "output_type": "execute_result"
    }
   ],
   "source": [
    "all_yearswithcoors_all"
   ]
  },
  {
   "cell_type": "markdown",
   "id": "f20111b7",
   "metadata": {},
   "source": [
    "### Questions"
   ]
  },
  {
   "cell_type": "markdown",
   "id": "717f3a9d",
   "metadata": {},
   "source": [
    "#### Question 1\n",
    "\n",
    "For each year between 2020 and 2023 inclusive, which five routes have the best and worst on time\n",
    "departures and on time arrivals? (for clarity, this is asking you to generate four separate lists of five\n",
    "routes, however each route will appear for each of the four years)."
   ]
  },
  {
   "cell_type": "code",
   "execution_count": 33,
   "id": "6d416e7c",
   "metadata": {},
   "outputs": [],
   "source": [
    "#Creating a function to apply to easily apply to the years\n",
    "\n",
    "def year_eval(year):\n",
    "    \"\"\"The function returns the dataframes that contain the best and worst routes.\"\"\"\n",
    "    \n",
    "    aggregate_list = {}\n",
    "\n",
    "    for column in list(year.columns):\n",
    "        if column in [\"latitude_dep\",\"longitude_dep\",\"latitude_arr\",\"longitude_arr\"]:\n",
    "            aggr_method = 'first'\n",
    "        elif is_numeric_dtype(year[column]):\n",
    "            aggr_method = 'sum'\n",
    "        else:\n",
    "            aggr_method = 'first'\n",
    "        aggregate_list.update({column:aggr_method})\n",
    "        \n",
    "    base = year.groupby('Route').aggregate(aggregate_list)\n",
    "    base['Aggregated Departures'] = base[\"Departures On Time\"]/base[\"Sectors Flown\"]\n",
    "    base['Aggregated Arrivals'] = base[\"Arrivals On Time\"]/base[\"Sectors Flown\"]\n",
    "    \n",
    "    \"\"\"We base the best and worst performance on aggregated arrivals and departures over their sectors flown.\"\"\"\n",
    "    \"\"\"We assume cancellations are not indicative performance, and are mainly caused by external factors.\"\"\"\n",
    "    prelist_1 = base.sort_values(['Aggregated Departures','Sectors Flown'], ascending = False).head(5)[['Route','Aggregated Departures']]\n",
    "    prelist_2 = base.sort_values(['Aggregated Departures','Sectors Flown'], ascending = True).head(5)[['Route','Aggregated Departures']]\n",
    "    \n",
    "    prelist_3 = base.sort_values(['Aggregated Arrivals','Sectors Flown'], ascending = False).head(5)[['Route','Aggregated Arrivals']]\n",
    "    prelist_4 = base.sort_values(['Aggregated Arrivals','Sectors Flown'], ascending = True).head(5)[['Route','Aggregated Arrivals']]\n",
    "    \n",
    "    all_listdep = base.sort_values(['Aggregated Departures','Sectors Flown'], ascending = False)\n",
    "    all_listarr = base.sort_values(['Aggregated Arrivals','Sectors Flown'], ascending = False)\n",
    "    \n",
    "    return prelist_1,prelist_2,prelist_3,prelist_4,all_listdep,all_listarr"
   ]
  },
  {
   "cell_type": "markdown",
   "id": "6ffd7b31",
   "metadata": {},
   "source": [
    "#### Question 2\n",
    "\n",
    "Consider the same Question 1 above, but aggregate both directions of a city pair to be a route.\n",
    "Additionally, comment on what differences are there between the original four and new four lists? (that\n",
    "is, Sydney – Melbourne and Melbourne – Sydney, for example, is now considered one route)."
   ]
  },
  {
   "cell_type": "code",
   "execution_count": 34,
   "id": "1820ade9",
   "metadata": {},
   "outputs": [],
   "source": [
    "def route_aggr(year):\n",
    "    \"\"\"The function aggregates the similar routes into one.\"\"\"\n",
    "    year['Route ID'] = 0\n",
    "    count = 1\n",
    "    \n",
    "    \"\"\"Initially, the function creates a new column and uses a loop to mark the routes that are similar to each other.\"\"\"\n",
    "    for i in range(len(year)):\n",
    "        if year[\"Route ID\"][i] != 0:\n",
    "            continue\n",
    "        else:  \n",
    "            year[\"Route ID\"][i] = count\n",
    "            for j in range(len(year)):\n",
    "                if year[\"Departing Port\"][i] == year[\"Arriving Port\"][j] and year[\"Arriving Port\"][i] == year[\"Departing Port\"][j]:\n",
    "                    year[\"Route ID\"][j] = '%s : %s' % (count, year[\"Route\"][i])\n",
    "                elif year[\"Departing Port\"][i] == year[\"Departing Port\"][j] and year[\"Arriving Port\"][i] == year[\"Arriving Port\"][j]:\n",
    "                    year[\"Route ID\"][j] = '%s : %s' % (count, year[\"Route\"][i])\n",
    "                else:\n",
    "                    continue\n",
    "        count += 1\n",
    "\n",
    "def year_eval_agg(year):\n",
    "    \"\"\"The function evaluates the dataset to determine the best and worst departure and arrival perfoamnce with aggregated routes.\"\"\"\n",
    "    aggregate_list = {}\n",
    "\n",
    "    for column in list(year.columns):\n",
    "        if column in [\"latitude_dep\",\"longitude_dep\",\"latitude_arr\",\"longitude_arr\"]:\n",
    "            aggr_method = 'first'\n",
    "        elif is_numeric_dtype(year[column]):\n",
    "            aggr_method = 'sum'\n",
    "        else:\n",
    "            aggr_method = 'first'\n",
    "        aggregate_list.update({column:aggr_method})\n",
    "        \n",
    "    base = year.groupby('Route ID').aggregate(aggregate_list)\n",
    "    base['Aggregated Departures'] = base[\"Departures On Time\"]/base[\"Sectors Flown\"]\n",
    "    base['Aggregated Arrivals'] = base[\"Arrivals On Time\"]/base[\"Sectors Flown\"]\n",
    "    \n",
    "    prelist_1 = base.sort_values(['Aggregated Departures','Sectors Flown'], ascending = False).head(5)[['Route ID','Aggregated Departures']]\n",
    "    prelist_2 = base.sort_values(['Aggregated Departures','Sectors Flown'], ascending = True).head(5)[['Route ID','Aggregated Departures']]\n",
    "    \n",
    "    prelist_3 = base.sort_values(['Aggregated Arrivals','Sectors Flown'], ascending = False).head(5)[['Route ID','Aggregated Arrivals']]\n",
    "    prelist_4 = base.sort_values(['Aggregated Arrivals','Sectors Flown'], ascending = True).head(5)[['Route ID','Aggregated Arrivals']]\n",
    "    \n",
    "    all_listdep = base.sort_values(['Aggregated Departures','Sectors Flown'], ascending = False)\n",
    "    all_listarr = base.sort_values(['Aggregated Arrivals','Sectors Flown'], ascending = False)\n",
    "    \n",
    "    return prelist_1,prelist_2,prelist_3,prelist_4,all_listdep,all_listarr"
   ]
  },
  {
   "cell_type": "markdown",
   "id": "63f03f9c",
   "metadata": {},
   "source": [
    "#### Question 3\n",
    "\n",
    "Utilise Python (3) to determine the first quartile number of sectors flown per route for all routes (per the\n",
    "above) within the file – that is, how many sectors would be exceeded for the route to be within the first\n",
    "quartile. Repeat Question 1 above again (do not aggregate the routes) to see how the statistics change.\n",
    "Again, comment on the differences between this analysis and that of the original analysis."
   ]
  },
  {
   "cell_type": "code",
   "execution_count": 20,
   "id": "675b8335",
   "metadata": {
    "scrolled": true
   },
   "outputs": [],
   "source": [
    "def quantile_eval(year,quantile):\n",
    "    \"\"\"The function creates a column to know whether the sectors flown of a specific row is above or equal to the first quartile relative to its route.\"\"\"\n",
    "    \n",
    "    aggregate_list = {}\n",
    "\n",
    "    for column in list(year.columns):\n",
    "        if column in [\"latitude_dep\",\"longitude_dep\",\"latitude_arr\",\"longitude_arr\"]:\n",
    "            aggr_method = 'first'\n",
    "        elif is_numeric_dtype(year[column]):\n",
    "            aggr_method = 'sum'\n",
    "        else:\n",
    "            aggr_method = 'first'\n",
    "        aggregate_list.update({column:aggr_method})\n",
    "        \n",
    "    route_list = year.groupby('Route ID').aggregate(aggregate_list).index.values.tolist()\n",
    "    quantile_dict = {}\n",
    "    \n",
    "    \"\"\"The dictionary allows having a storage for the quantile based on the route.\"\"\"\n",
    "    for route in route_list:\n",
    "        quantile_dict.update({ route: np.quantile(year[(year[\"Route ID\"] == route)]['Sectors Flown'], quantile)})\n",
    "\n",
    "    \"\"\"The process is basically treating each as False initially but evaluating each element if they are above the quantile.\"\"\"\n",
    "    year['Above Quantile'] = False\n",
    "    \n",
    "    for routeID,quantile in quantile_dict.items():\n",
    "        for i in range(len(year)):\n",
    "            if year[\"Route ID\"][i] == routeID:\n",
    "                if int(year['Sectors Flown'][i]) >= float(quantile):\n",
    "                    year['Above Quantile'][i] = True\n",
    "                else:\n",
    "                    continue\n",
    "            else:\n",
    "                continue"
   ]
  },
  {
   "cell_type": "markdown",
   "id": "35438f0c",
   "metadata": {},
   "source": [
    "#### Question 4\n",
    "\n",
    "Which five Arriving and Departing ports had the most cancellations – in terms of absolute numbers of\n",
    "sectors scheduled and in terms of percentage thereof? Comment on which of the two metrics you think\n",
    "is more appropriate to use to determine the effect of cancellations."
   ]
  },
  {
   "cell_type": "code",
   "execution_count": 13,
   "id": "1db5b90a",
   "metadata": {},
   "outputs": [],
   "source": [
    "def cancellation_eval(year):\n",
    "    \"\"\"The function evaluates a dataframe to determine the cancecllation performance for arrival and departure ports.\"\"\"\n",
    "    \n",
    "    \"\"\"The initial step is calculating the aggregated cancellations based on ports.\"\"\"\n",
    "    \n",
    "    aggregate_list = {}\n",
    "\n",
    "    for column in list(year.columns):\n",
    "        if column in [\"latitude_dep\",\"longitude_dep\",\"latitude_arr\",\"longitude_arr\"]:\n",
    "            aggr_method = 'first'\n",
    "        elif is_numeric_dtype(year[column]):\n",
    "            aggr_method = 'sum'\n",
    "        else:\n",
    "            aggr_method = 'first'\n",
    "        aggregate_list.update({column:aggr_method})\n",
    "    \n",
    "    base_depart = year.groupby('Departing Port').aggregate(aggregate_list)\n",
    "    base_depart['Aggregated Cancellations Depart'] = base_depart[\"Cancellations\"]/base_depart[\"Sectors Scheduled\"]\n",
    "    \n",
    "    base_arrive = year.groupby('Arriving Port').aggregate(aggregate_list)\n",
    "    base_arrive['Aggregated Cancellations Arrive'] = base_arrive[\"Cancellations\"]/base_arrive[\"Sectors Scheduled\"]\n",
    "    \n",
    "    prelist_1 = base_depart.sort_values(['Aggregated Cancellations Depart','Sectors Scheduled'], ascending = False).head(5)[['Departing Port','Aggregated Cancellations Depart','Sectors Scheduled']]\n",
    "    prelist_2 = base_arrive.sort_values(['Aggregated Cancellations Arrive','Sectors Scheduled'], ascending = False).head(5)[['Arriving Port','Aggregated Cancellations Arrive','Sectors Scheduled']]\n",
    "    \n",
    "    prelist_3 = base_depart.sort_values(['Cancellations','Sectors Scheduled'], ascending = False).head(5)[['Departing Port','Cancellations','Sectors Scheduled']]\n",
    "    prelist_4 = base_arrive.sort_values(['Cancellations','Sectors Scheduled'], ascending = False).head(5)[['Arriving Port','Cancellations','Sectors Scheduled']]\n",
    "    \n",
    "    all_listdep_per = base_depart.sort_values(['Aggregated Cancellations Depart','Sectors Scheduled'], ascending = False)\n",
    "    all_listarr_per = base_arrive.sort_values(['Aggregated Cancellations Arrive','Sectors Scheduled'], ascending = False)\n",
    "    \n",
    "    all_listdep_raw = base_depart.sort_values(['Cancellations','Sectors Scheduled'], ascending = False)\n",
    "    all_listarr_raw = base_arrive.sort_values(['Cancellations','Sectors Scheduled'], ascending = False)   \n",
    "    \n",
    "    return prelist_1,prelist_2,prelist_3,prelist_4,all_listdep_per,all_listarr_per,all_listdep_raw,all_listarr_raw"
   ]
  },
  {
   "cell_type": "markdown",
   "id": "639ca7cb",
   "metadata": {},
   "source": [
    "### Answers for 1 to 4"
   ]
  },
  {
   "cell_type": "markdown",
   "id": "0949da36",
   "metadata": {},
   "source": [
    "#### Question 1"
   ]
  },
  {
   "cell_type": "code",
   "execution_count": 35,
   "id": "24104ba2",
   "metadata": {},
   "outputs": [],
   "source": [
    "#For year 2020\n",
    "bestdep2020,wordep2020,bestarr2020,worarr2020,dep2020,arr2020 = year_eval(df2020)\n",
    "\n",
    "#For year 2021\n",
    "bestdep2021,wordep2021,bestarr2021,worarr2021,dep2021,arr2021 = year_eval(df2021)\n",
    "\n",
    "#For year 2022\n",
    "bestdep2022,wordep2022,bestarr2022,worarr2022,dep2022,arr2022 = year_eval(df2022)\n",
    "\n",
    "#For year 2023\n",
    "bestdep2023,wordep2023,bestarr2023,worarr2023,dep2023,arr2023 = year_eval(df2023)"
   ]
  },
  {
   "cell_type": "code",
   "execution_count": 36,
   "id": "fef09385",
   "metadata": {},
   "outputs": [
    {
     "data": {
      "text/html": [
       "<div>\n",
       "<style scoped>\n",
       "    .dataframe tbody tr th:only-of-type {\n",
       "        vertical-align: middle;\n",
       "    }\n",
       "\n",
       "    .dataframe tbody tr th {\n",
       "        vertical-align: top;\n",
       "    }\n",
       "\n",
       "    .dataframe thead th {\n",
       "        text-align: right;\n",
       "    }\n",
       "</style>\n",
       "<table border=\"1\" class=\"dataframe\">\n",
       "  <thead>\n",
       "    <tr style=\"text-align: right;\">\n",
       "      <th></th>\n",
       "      <th>Route</th>\n",
       "      <th>Aggregated Departures</th>\n",
       "    </tr>\n",
       "    <tr>\n",
       "      <th>Route</th>\n",
       "      <th></th>\n",
       "      <th></th>\n",
       "    </tr>\n",
       "  </thead>\n",
       "  <tbody>\n",
       "    <tr>\n",
       "      <th>Alice Springs-Darwin</th>\n",
       "      <td>Alice Springs-Darwin</td>\n",
       "      <td>0.954545</td>\n",
       "    </tr>\n",
       "    <tr>\n",
       "      <th>Cairns-Townsville</th>\n",
       "      <td>Cairns-Townsville</td>\n",
       "      <td>0.930931</td>\n",
       "    </tr>\n",
       "    <tr>\n",
       "      <th>Brisbane-Emerald</th>\n",
       "      <td>Brisbane-Emerald</td>\n",
       "      <td>0.923077</td>\n",
       "    </tr>\n",
       "    <tr>\n",
       "      <th>Perth-Darwin</th>\n",
       "      <td>Perth-Darwin</td>\n",
       "      <td>0.922807</td>\n",
       "    </tr>\n",
       "    <tr>\n",
       "      <th>Perth-Port Hedland</th>\n",
       "      <td>Perth-Port Hedland</td>\n",
       "      <td>0.920930</td>\n",
       "    </tr>\n",
       "  </tbody>\n",
       "</table>\n",
       "</div>"
      ],
      "text/plain": [
       "                                     Route  Aggregated Departures\n",
       "Route                                                            \n",
       "Alice Springs-Darwin  Alice Springs-Darwin               0.954545\n",
       "Cairns-Townsville        Cairns-Townsville               0.930931\n",
       "Brisbane-Emerald          Brisbane-Emerald               0.923077\n",
       "Perth-Darwin                  Perth-Darwin               0.922807\n",
       "Perth-Port Hedland      Perth-Port Hedland               0.920930"
      ]
     },
     "execution_count": 36,
     "metadata": {},
     "output_type": "execute_result"
    }
   ],
   "source": [
    "bestdep2020"
   ]
  },
  {
   "cell_type": "markdown",
   "id": "ed255efa",
   "metadata": {},
   "source": [
    "#### Question 2"
   ]
  },
  {
   "cell_type": "code",
   "execution_count": 37,
   "id": "8ff91034",
   "metadata": {},
   "outputs": [],
   "source": [
    "#Prepairing aggregation for the years\n",
    "route_aggr(df2020)\n",
    "route_aggr(df2021)\n",
    "route_aggr(df2022)\n",
    "route_aggr(df2023)"
   ]
  },
  {
   "cell_type": "code",
   "execution_count": 38,
   "id": "6a34f701",
   "metadata": {},
   "outputs": [],
   "source": [
    "#For year 2020\n",
    "bestdep2020_agg,wordep2020_agg,bestarr2020_agg,worarr2020_agg,dep2020_agg,arr2020_agg = year_eval_agg(df2020)\n",
    "\n",
    "#For year 2021\n",
    "bestdep2021_agg,wordep2021_agg,bestarr2021_agg,worarr2021_agg,dep2021_agg,arr2021_agg = year_eval_agg(df2021)\n",
    "\n",
    "#For year 2022\n",
    "bestdep2022_agg,wordep2022_agg,bestarr2022_agg,worarr2022_agg,dep2022_agg,arr2022_agg = year_eval_agg(df2022)\n",
    "\n",
    "#For year 2023\n",
    "bestdep2023_agg,wordep2023_agg,bestarr2023_agg,worarr2023_agg,dep2023_agg,arr2023_agg = year_eval_agg(df2023)"
   ]
  },
  {
   "cell_type": "code",
   "execution_count": 39,
   "id": "82028d66",
   "metadata": {
    "scrolled": true
   },
   "outputs": [
    {
     "data": {
      "text/html": [
       "<div>\n",
       "<style scoped>\n",
       "    .dataframe tbody tr th:only-of-type {\n",
       "        vertical-align: middle;\n",
       "    }\n",
       "\n",
       "    .dataframe tbody tr th {\n",
       "        vertical-align: top;\n",
       "    }\n",
       "\n",
       "    .dataframe thead th {\n",
       "        text-align: right;\n",
       "    }\n",
       "</style>\n",
       "<table border=\"1\" class=\"dataframe\">\n",
       "  <thead>\n",
       "    <tr style=\"text-align: right;\">\n",
       "      <th></th>\n",
       "      <th>Route ID</th>\n",
       "      <th>Aggregated Departures</th>\n",
       "    </tr>\n",
       "    <tr>\n",
       "      <th>Route ID</th>\n",
       "      <th></th>\n",
       "      <th></th>\n",
       "    </tr>\n",
       "  </thead>\n",
       "  <tbody>\n",
       "    <tr>\n",
       "      <th>48 : Alice Springs-Darwin</th>\n",
       "      <td>48 : Alice Springs-Darwin</td>\n",
       "      <td>0.931818</td>\n",
       "    </tr>\n",
       "    <tr>\n",
       "      <th>52 : Brisbane-Emerald</th>\n",
       "      <td>52 : Brisbane-Emerald</td>\n",
       "      <td>0.920967</td>\n",
       "    </tr>\n",
       "    <tr>\n",
       "      <th>57 : Cairns-Townsville</th>\n",
       "      <td>57 : Cairns-Townsville</td>\n",
       "      <td>0.914157</td>\n",
       "    </tr>\n",
       "    <tr>\n",
       "      <th>42 : Kalgoorlie-Perth</th>\n",
       "      <td>42 : Kalgoorlie-Perth</td>\n",
       "      <td>0.894973</td>\n",
       "    </tr>\n",
       "    <tr>\n",
       "      <th>37 : Adelaide-Canberra</th>\n",
       "      <td>37 : Adelaide-Canberra</td>\n",
       "      <td>0.889053</td>\n",
       "    </tr>\n",
       "  </tbody>\n",
       "</table>\n",
       "</div>"
      ],
      "text/plain": [
       "                                            Route ID  Aggregated Departures\n",
       "Route ID                                                                   \n",
       "48 : Alice Springs-Darwin  48 : Alice Springs-Darwin               0.931818\n",
       "52 : Brisbane-Emerald          52 : Brisbane-Emerald               0.920967\n",
       "57 : Cairns-Townsville        57 : Cairns-Townsville               0.914157\n",
       "42 : Kalgoorlie-Perth          42 : Kalgoorlie-Perth               0.894973\n",
       "37 : Adelaide-Canberra        37 : Adelaide-Canberra               0.889053"
      ]
     },
     "execution_count": 39,
     "metadata": {},
     "output_type": "execute_result"
    }
   ],
   "source": [
    "#For year 2020 Best depature on time\n",
    "bestdep2020_agg"
   ]
  },
  {
   "cell_type": "code",
   "execution_count": null,
   "id": "0d015876",
   "metadata": {},
   "outputs": [],
   "source": [
    "#For year 2021 Best depature on time\n",
    "bestdep2021_agg"
   ]
  },
  {
   "cell_type": "code",
   "execution_count": null,
   "id": "9f2ee450",
   "metadata": {},
   "outputs": [],
   "source": []
  },
  {
   "cell_type": "markdown",
   "id": "85f84753",
   "metadata": {},
   "source": [
    "#### Question 3"
   ]
  },
  {
   "cell_type": "code",
   "execution_count": 40,
   "id": "116c1d9f",
   "metadata": {},
   "outputs": [],
   "source": [
    "#Prepairing the filter for those above or equal to the 75th percentile per route\n",
    "\n",
    "quantile_eval(df2020,.75)\n",
    "quantile_eval(df2021,.75)\n",
    "quantile_eval(df2022,.75)\n",
    "quantile_eval(df2023,.75)"
   ]
  },
  {
   "cell_type": "code",
   "execution_count": 41,
   "id": "4a8c2bc6",
   "metadata": {},
   "outputs": [],
   "source": [
    "#For year 2020\n",
    "bestdep2020_quan,wordep2020_quan,bestarr2020_quan,worarr2020_quan,dep2020_quan,arr2020_quan = year_eval(df2020[df2020['Above Quantile']==True])\n",
    "\n",
    "#For year 2021\n",
    "bestdep2021_quan,wordep2021_quan,bestarr2021_quan,worarr2021_quan,dep2021_quan,arr2021_quan = year_eval(df2021[df2021['Above Quantile']==True])\n",
    "\n",
    "#For year 2022\n",
    "bestdep2022_quan,wordep2022_quan,bestarr2022_quan,worarr2022_quan,dep2022_quan,arr2022_quan = year_eval(df2022[df2022['Above Quantile']==True])\n",
    "\n",
    "#For year 2023\n",
    "bestdep2023_quan,wordep2023_quan,bestarr2023_quan,worarr2023_quan,dep2023_quan,arr2023_quan = year_eval(df2023[df2023['Above Quantile']==True])"
   ]
  },
  {
   "cell_type": "code",
   "execution_count": 42,
   "id": "04e3e73f",
   "metadata": {},
   "outputs": [
    {
     "data": {
      "text/html": [
       "<div>\n",
       "<style scoped>\n",
       "    .dataframe tbody tr th:only-of-type {\n",
       "        vertical-align: middle;\n",
       "    }\n",
       "\n",
       "    .dataframe tbody tr th {\n",
       "        vertical-align: top;\n",
       "    }\n",
       "\n",
       "    .dataframe thead th {\n",
       "        text-align: right;\n",
       "    }\n",
       "</style>\n",
       "<table border=\"1\" class=\"dataframe\">\n",
       "  <thead>\n",
       "    <tr style=\"text-align: right;\">\n",
       "      <th></th>\n",
       "      <th>Route</th>\n",
       "      <th>Aggregated Departures</th>\n",
       "    </tr>\n",
       "    <tr>\n",
       "      <th>Route</th>\n",
       "      <th></th>\n",
       "      <th></th>\n",
       "    </tr>\n",
       "  </thead>\n",
       "  <tbody>\n",
       "    <tr>\n",
       "      <th>Alice Springs-Darwin</th>\n",
       "      <td>Alice Springs-Darwin</td>\n",
       "      <td>0.954545</td>\n",
       "    </tr>\n",
       "    <tr>\n",
       "      <th>Adelaide-Port Lincoln</th>\n",
       "      <td>Adelaide-Port Lincoln</td>\n",
       "      <td>0.927818</td>\n",
       "    </tr>\n",
       "    <tr>\n",
       "      <th>Brisbane-Emerald</th>\n",
       "      <td>Brisbane-Emerald</td>\n",
       "      <td>0.920455</td>\n",
       "    </tr>\n",
       "    <tr>\n",
       "      <th>Cairns-Townsville</th>\n",
       "      <td>Cairns-Townsville</td>\n",
       "      <td>0.919260</td>\n",
       "    </tr>\n",
       "    <tr>\n",
       "      <th>Perth-Darwin</th>\n",
       "      <td>Perth-Darwin</td>\n",
       "      <td>0.916376</td>\n",
       "    </tr>\n",
       "  </tbody>\n",
       "</table>\n",
       "</div>"
      ],
      "text/plain": [
       "                                       Route  Aggregated Departures\n",
       "Route                                                              \n",
       "Alice Springs-Darwin    Alice Springs-Darwin               0.954545\n",
       "Adelaide-Port Lincoln  Adelaide-Port Lincoln               0.927818\n",
       "Brisbane-Emerald            Brisbane-Emerald               0.920455\n",
       "Cairns-Townsville          Cairns-Townsville               0.919260\n",
       "Perth-Darwin                    Perth-Darwin               0.916376"
      ]
     },
     "execution_count": 42,
     "metadata": {},
     "output_type": "execute_result"
    }
   ],
   "source": [
    "bestdep2020_quan"
   ]
  },
  {
   "cell_type": "markdown",
   "id": "90a4619d",
   "metadata": {},
   "source": [
    "#### Question 4"
   ]
  },
  {
   "cell_type": "code",
   "execution_count": 14,
   "id": "0b908a5f",
   "metadata": {},
   "outputs": [],
   "source": [
    "#For here 'raw' means the raw count of cancecllations while the 'per' is the percentage.\n",
    "\n",
    "#For year 2020\n",
    "candep2020per,canarr2020per,candep2020raw,canarr2020raw,alldep2020per,allarr2020per,alldep2020raw,allarr2020raw = cancellation_eval(df2020)\n",
    "\n",
    "#For year 2021\n",
    "candep2021per,canarr2021per,candep2021raw,canarr2021raw,alldep2021per,allarr2021per,alldep2021raw,allarr2021raw = cancellation_eval(df2021)\n",
    "\n",
    "#For year 2022\n",
    "candep2022per,canarr2022per,candep2022raw,canarr2022raw,alldep2022per,allarr2022per,alldep2022raw,allarr2022raw = cancellation_eval(df2022)\n",
    "\n",
    "#For year 2023\n",
    "candep2023per,canarr2023per,candep2023raw,canarr2023raw,alldep2023per,allarr2023per,alldep2023raw,allarr2023raw = cancellation_eval(df2023)"
   ]
  },
  {
   "cell_type": "code",
   "execution_count": 26,
   "id": "f23bcf39",
   "metadata": {},
   "outputs": [
    {
     "data": {
      "text/html": [
       "<div>\n",
       "<style scoped>\n",
       "    .dataframe tbody tr th:only-of-type {\n",
       "        vertical-align: middle;\n",
       "    }\n",
       "\n",
       "    .dataframe tbody tr th {\n",
       "        vertical-align: top;\n",
       "    }\n",
       "\n",
       "    .dataframe thead th {\n",
       "        text-align: right;\n",
       "    }\n",
       "</style>\n",
       "<table border=\"1\" class=\"dataframe\">\n",
       "  <thead>\n",
       "    <tr style=\"text-align: right;\">\n",
       "      <th></th>\n",
       "      <th>Arriving Port</th>\n",
       "      <th>Cancellations</th>\n",
       "      <th>Sectors Scheduled</th>\n",
       "    </tr>\n",
       "    <tr>\n",
       "      <th>Arriving Port</th>\n",
       "      <th></th>\n",
       "      <th></th>\n",
       "      <th></th>\n",
       "    </tr>\n",
       "  </thead>\n",
       "  <tbody>\n",
       "    <tr>\n",
       "      <th>Sydney</th>\n",
       "      <td>Sydney</td>\n",
       "      <td>12580</td>\n",
       "      <td>178894</td>\n",
       "    </tr>\n",
       "    <tr>\n",
       "      <th>Melbourne</th>\n",
       "      <td>Melbourne</td>\n",
       "      <td>10186</td>\n",
       "      <td>148690</td>\n",
       "    </tr>\n",
       "    <tr>\n",
       "      <th>Brisbane</th>\n",
       "      <td>Brisbane</td>\n",
       "      <td>5246</td>\n",
       "      <td>115368</td>\n",
       "    </tr>\n",
       "    <tr>\n",
       "      <th>Gold Coast</th>\n",
       "      <td>Gold Coast</td>\n",
       "      <td>2054</td>\n",
       "      <td>34058</td>\n",
       "    </tr>\n",
       "    <tr>\n",
       "      <th>Canberra</th>\n",
       "      <td>Canberra</td>\n",
       "      <td>1958</td>\n",
       "      <td>32740</td>\n",
       "    </tr>\n",
       "  </tbody>\n",
       "</table>\n",
       "</div>"
      ],
      "text/plain": [
       "              Arriving Port  Cancellations  Sectors Scheduled\n",
       "Arriving Port                                                \n",
       "Sydney               Sydney          12580             178894\n",
       "Melbourne         Melbourne          10186             148690\n",
       "Brisbane           Brisbane           5246             115368\n",
       "Gold Coast       Gold Coast           2054              34058\n",
       "Canberra           Canberra           1958              32740"
      ]
     },
     "execution_count": 26,
     "metadata": {},
     "output_type": "execute_result"
    }
   ],
   "source": [
    "canarr2022raw"
   ]
  },
  {
   "cell_type": "markdown",
   "id": "509dc969",
   "metadata": {},
   "source": [
    "### Other Questions"
   ]
  },
  {
   "cell_type": "markdown",
   "id": "095d9d60",
   "metadata": {},
   "source": [
    "#### Question 5\n",
    "\n",
    "Once you have undertaken the above analysis, visualise the results in a manner that you deem\n",
    "appropriate for the data. Briefly describe why you have chosen the particular form of visualisation (for\n",
    "each visualisation) and ensure that each visualisation is appropriately labelled such that there is no\n",
    "misunderstanding as to which analysis it corresponds to."
   ]
  },
  {
   "cell_type": "markdown",
   "id": "9125085c",
   "metadata": {},
   "source": [
    "##### Top 5 using Bar Charts"
   ]
  },
  {
   "cell_type": "code",
   "execution_count": 30,
   "id": "dcbb517c",
   "metadata": {},
   "outputs": [],
   "source": [
    "#Best Departure Route across the years\n",
    "\n",
    "bestdep20to23 = pd.concat([bestdep2020,bestdep2021,bestdep2022,bestdep2023], ignore_index=True)"
   ]
  },
  {
   "cell_type": "markdown",
   "id": "9c208aa1",
   "metadata": {},
   "source": [
    "###### Under construction\n",
    "\n",
    "bar = sns.FacetGrid(bestdep20to23, hue = \"Route\", row=\"Year\")\n",
    "bar.map(sns.barplot,\"Aggregated Departures\",\"Route\")\n",
    "bar.set_axis_labels(\"Routes\", \"Departure as %\")\n",
    "bar.tight_layout()\n",
    "bar.despine(left=True)\n",
    "\n",
    "for ax in bar.axes.flat:\n",
    "    ax.tick_params(axis='x', which='both', rotation=70)\n",
    "\n",
    "for ax in bar.axes.flatten():\n",
    "    ax.tick_params(labelbottom=True)"
   ]
  },
  {
   "cell_type": "markdown",
   "id": "f4f12712",
   "metadata": {},
   "source": [
    "#For newer versions\n",
    "for i in bar.containers:\n",
    "    bar.bar_label(i,)\n",
    "    \n",
    "#for x and y label\n",
    "fig.supxlabel('X')\n",
    "fig.supylabel('Y')"
   ]
  },
  {
   "cell_type": "code",
   "execution_count": 31,
   "id": "89d2d5a5",
   "metadata": {
    "scrolled": false
   },
   "outputs": [
    {
     "data": {
      "text/plain": [
       "[Text(0, 0, 'Cairns-Townsville'),\n",
       " Text(1, 0, 'Townsville-Cairns'),\n",
       " Text(2, 0, 'Adelaide-Canberra'),\n",
       " Text(3, 0, 'Brisbane-Mount Isa'),\n",
       " Text(4, 0, 'Adelaide-Port Lincoln')]"
      ]
     },
     "execution_count": 31,
     "metadata": {},
     "output_type": "execute_result"
    },
    {
     "data": {
      "image/png": "[encoded data removed]",
      "text/plain": [
       "<Figure size 1080x360 with 4 Axes>"
      ]
     },
     "metadata": {},
     "output_type": "display_data"
    }
   ],
   "source": [
    "#imprive through definition and better layout\n",
    "\n",
    "sns.set_style(\"white\")\n",
    "sns.set_context(\"paper\", rc={\"font.size\":15,\"axes.titlesize\":20,\"axes.labelsize\":15})   \n",
    "\n",
    "fig, axes = plt.subplots(1, 4, figsize=(15, 5))\n",
    "fig.suptitle('Routes with the Best Departures on Time by Years', fontsize=16)\n",
    "\n",
    "bar = sns.barplot(ax=axes[0], x='Route', y=\"Aggregated Departures\", data=bestdep2020, color='red', edgecolor=None)\n",
    "sns.despine(bottom = True, left = True)\n",
    "bar.set(xlabel = \"Departures as %\",ylabel = \"Routes\")\n",
    "\n",
    "bar.xaxis.label.set_color('black')\n",
    "bar.yaxis.label.set_color('black')\n",
    "bar.set_xticklabels(bar.get_xticklabels(), rotation=75)\n",
    "\n",
    "bar2 = sns.barplot(ax=axes[1], x='Route', y=\"Aggregated Departures\", data=bestdep2021, color='red', edgecolor=None)\n",
    "sns.despine(bottom = True, left = True)\n",
    "bar2.set(xlabel = None,ylabel =None)\n",
    "\n",
    "bar2.xaxis.label.set_color('black')\n",
    "bar2.yaxis.label.set_color('black')\n",
    "bar2.set_xticklabels(bar2.get_xticklabels(), rotation=75)\n",
    "\n",
    "bar3 = sns.barplot(ax=axes[2], x='Route', y=\"Aggregated Departures\", data=bestdep2022, color='red', edgecolor=None)\n",
    "sns.despine(bottom = True, left = True)\n",
    "bar3.set(xlabel = None,ylabel =None)\n",
    "\n",
    "bar3.xaxis.label.set_color('black')\n",
    "bar3.yaxis.label.set_color('black')\n",
    "bar3.set_xticklabels(bar3.get_xticklabels(), rotation=75)\n",
    "\n",
    "bar4 = sns.barplot(ax=axes[3], x='Route', y=\"Aggregated Departures\", data=bestdep2023, color='red', edgecolor=None)\n",
    "sns.despine(bottom = True, left = True)\n",
    "bar4.set(xlabel = None,ylabel =None)\n",
    "\n",
    "bar4.xaxis.label.set_color('black')\n",
    "bar4.yaxis.label.set_color('black')\n",
    "bar4.set_xticklabels(bar4.get_xticklabels(), rotation=75)\n",
    "\n"
   ]
  },
  {
   "cell_type": "code",
   "execution_count": null,
   "id": "c9b74734",
   "metadata": {},
   "outputs": [],
   "source": [
    "sns.set_style(\"white\")\n",
    "sns.set_context(\"paper\", rc={\"font.size\":15,\"axes.titlesize\":20,\"axes.labelsize\":15})   \n",
    "\n",
    "fig, axes = plt.subplots(1, 4, figsize=(15, 5))\n",
    "fig.suptitle('Routes with the Best Departures on Time by Years', fontsize=16)\n",
    "\n",
    "bar = sns.barplot(ax=axes[0], x='Route', y=\"Aggregated Departures\", data=bestdep2020, color='red', edgecolor=None)\n",
    "sns.despine(bottom = True, left = True)\n",
    "bar.set(xlabel = \"Departures as %\",ylabel = \"Routes\")\n",
    "\n",
    "bar.xaxis.label.set_color('black')\n",
    "bar.yaxis.label.set_color('black')\n",
    "bar.set_xticklabels(bar.get_xticklabels(), rotation=75)"
   ]
  },
  {
   "cell_type": "markdown",
   "id": "635ea69d",
   "metadata": {},
   "source": [
    "##### Scatterplot for Cancellations"
   ]
  },
  {
   "cell_type": "code",
   "execution_count": 32,
   "id": "2602195d",
   "metadata": {
    "scrolled": false
   },
   "outputs": [
    {
     "data": {
      "text/plain": [
       "[Text(0.5, 0, 'Cancellations'), Text(0, 0.5, 'Cancellations as %')]"
      ]
     },
     "execution_count": 32,
     "metadata": {},
     "output_type": "execute_result"
    },
    {
     "data": {
      "image/png": "[encoded data removed]",
      "text/plain": [
       "<Figure size 432x288 with 1 Axes>"
      ]
     },
     "metadata": {},
     "output_type": "display_data"
    }
   ],
   "source": [
    "#use airlines\n",
    "\n",
    "sns.set_style(\"white\")\n",
    "cns = sns.scatterplot(y='Aggregated Cancellations Depart',x='Cancellations',color=\"red\", data=alldep2020per)\n",
    "sns.despine(bottom = True, left = True)\n",
    "cns.set(xlabel = \"Cancellations\", ylabel = \"Cancellations as %\")"
   ]
  },
  {
   "cell_type": "markdown",
   "id": "ee809c9d",
   "metadata": {},
   "source": [
    "#### Map Visulisations"
   ]
  },
  {
   "cell_type": "code",
   "execution_count": 33,
   "id": "f1a588ee",
   "metadata": {},
   "outputs": [],
   "source": [
    "df2020_geo = all_yearswithcoors_all[all_yearswithcoors_all[\"Year\"] == \"2020\"].reset_index(drop=True)"
   ]
  },
  {
   "cell_type": "code",
   "execution_count": 34,
   "id": "c99966df",
   "metadata": {},
   "outputs": [],
   "source": [
    "aggregate_list = {}\n",
    "\n",
    "for column in list(df2020_geo.columns):\n",
    "    if column in [\"latitude_dep\",\"longitude_dep\",\"latitude_arr\",\"longitude_arr\"]:\n",
    "        aggr_method = 'first'\n",
    "    elif is_numeric_dtype(df2020_geo[column]):\n",
    "        aggr_method = 'sum'\n",
    "    else:\n",
    "        aggr_method = 'first'\n",
    "    aggregate_list.update({column:aggr_method})\n",
    "\n",
    "df2020_geo = df2020_geo.groupby('Departing Port').aggregate(aggregate_list)"
   ]
  },
  {
   "cell_type": "code",
   "execution_count": 132,
   "id": "fd64cc2a",
   "metadata": {},
   "outputs": [
    {
     "data": {
      "application/vnd.plotly.v1+json": {
       "config": {
        "plotlyServerURL": "https://plot.ly"
       },
       "data": [
        {
         "coloraxis": "coloraxis",
         "hovertemplate": "Cancellations=%{z}<br>latitude_dep=%{lat}<br>longitude_dep=%{lon}<extra></extra>",
         "lat": [
          -34.9281805,
          -36.0804766,
          -23.6983884,
          -30.5144881,
          -25.3455545,
          -28.86574,
          -27.4689682,
          -17.9566909,
          -24.8653253,
          -16.9206657,
          -35.2975906,
          -30.2962407,
          -12.46044,
          -32.2478964,
          -23.5263118,
          -23.8431724,
          -28.0023731,
          -20.35462625,
          -42.8825088,
          -30.7464139,
          -20.7370067,
          -41.4340813,
          -21.141956,
          -37.8142454,
          -34.195274,
          -20.7289898,
          -32.9192953,
          -23.357394,
          -31.9558933,
          -20.3111814,
          -34.7211905,
          -31.4299499,
          -20.4018085,
          -23.3782137,
          -26.6544338,
          -33.8698439,
          -31.0900743,
          -19.2569391,
          -35.115
         ],
         "lon": [
          138.5999312,
          146.9162795,
          133.8812885,
          151.6656564,
          131.03696147470208,
          153.5659468,
          153.0234991,
          122.2240181,
          152.3516785,
          145.7721854,
          149.1012676,
          153.1135293,
          130.8410469,
          148.6026502,
          148.1618622,
          151.256132,
          153.4145987,
          148.956051815311,
          147.3281233,
          121.473223,
          116.8478592,
          147.1373496,
          149.1865149,
          144.9631732,
          142.1503146,
          139.4931522,
          151.7795348,
          119.7331631,
          115.8605855,
          118.5801181,
          135.8592218,
          152.9103525,
          148.5832137,
          150.5134227,
          153.0933668,
          151.2082848,
          150.9290159,
          146.8239537,
          147.3677778
         ],
         "name": "",
         "radius": 25,
         "subplot": "mapbox",
         "type": "densitymapbox",
         "z": [
          1644,
          152,
          14,
          112,
          30,
          106,
          3732,
          106,
          26,
          428,
          1022,
          42,
          88,
          120,
          82,
          132,
          806,
          74,
          474,
          142,
          262,
          266,
          180,
          5760,
          94,
          32,
          296,
          222,
          1504,
          236,
          172,
          62,
          28,
          200,
          172,
          7734,
          68,
          224,
          122
         ]
        }
       ],
       "layout": {
        "coloraxis": {
         "colorbar": {
          "title": {
           "text": "Cancellations"
          }
         },
         "colorscale": [
          [
           0,
           "#0d0887"
          ],
          [
           0.1111111111111111,
           "#46039f"
          ],
          [
           0.2222222222222222,
           "#7201a8"
          ],
          [
           0.3333333333333333,
           "#9c179e"
          ],
          [
           0.4444444444444444,
           "#bd3786"
          ],
          [
           0.5555555555555556,
           "#d8576b"
          ],
          [
           0.6666666666666666,
           "#ed7953"
          ],
          [
           0.7777777777777778,
           "#fb9f3a"
          ],
          [
           0.8888888888888888,
           "#fdca26"
          ],
          [
           1,
           "#f0f921"
          ]
         ]
        },
        "legend": {
         "tracegroupgap": 0
        },
        "mapbox": {
         "center": {
          "lat": -25,
          "lon": 130
         },
         "domain": {
          "x": [
           0,
           1
          ],
          "y": [
           0,
           1
          ]
         },
         "style": "open-street-map",
         "zoom": 2.5
        },
        "margin": {
         "t": 60
        },
        "template": {
         "data": {
          "bar": [
           {
            "error_x": {
             "color": "#2a3f5f"
            },
            "error_y": {
             "color": "#2a3f5f"
            },
            "marker": {
             "line": {
              "color": "#E5ECF6",
              "width": 0.5
             },
             "pattern": {
              "fillmode": "overlay",
              "size": 10,
              "solidity": 0.2
             }
            },
            "type": "bar"
           }
          ],
          "barpolar": [
           {
            "marker": {
             "line": {
              "color": "#E5ECF6",
              "width": 0.5
             },
             "pattern": {
              "fillmode": "overlay",
              "size": 10,
              "solidity": 0.2
             }
            },
            "type": "barpolar"
           }
          ],
          "carpet": [
           {
            "aaxis": {
             "endlinecolor": "#2a3f5f",
             "gridcolor": "white",
             "linecolor": "white",
             "minorgridcolor": "white",
             "startlinecolor": "#2a3f5f"
            },
            "baxis": {
             "endlinecolor": "#2a3f5f",
             "gridcolor": "white",
             "linecolor": "white",
             "minorgridcolor": "white",
             "startlinecolor": "#2a3f5f"
            },
            "type": "carpet"
           }
          ],
          "choropleth": [
           {
            "colorbar": {
             "outlinewidth": 0,
             "ticks": ""
            },
            "type": "choropleth"
           }
          ],
          "contour": [
           {
            "colorbar": {
             "outlinewidth": 0,
             "ticks": ""
            },
            "colorscale": [
             [
              0,
              "#0d0887"
             ],
             [
              0.1111111111111111,
              "#46039f"
             ],
             [
              0.2222222222222222,
              "#7201a8"
             ],
             [
              0.3333333333333333,
              "#9c179e"
             ],
             [
              0.4444444444444444,
              "#bd3786"
             ],
             [
              0.5555555555555556,
              "#d8576b"
             ],
             [
              0.6666666666666666,
              "#ed7953"
             ],
             [
              0.7777777777777778,
              "#fb9f3a"
             ],
             [
              0.8888888888888888,
              "#fdca26"
             ],
             [
              1,
              "#f0f921"
             ]
            ],
            "type": "contour"
           }
          ],
          "contourcarpet": [
           {
            "colorbar": {
             "outlinewidth": 0,
             "ticks": ""
            },
            "type": "contourcarpet"
           }
          ],
          "heatmap": [
           {
            "colorbar": {
             "outlinewidth": 0,
             "ticks": ""
            },
            "colorscale": [
             [
              0,
              "#0d0887"
             ],
             [
              0.1111111111111111,
              "#46039f"
             ],
             [
              0.2222222222222222,
              "#7201a8"
             ],
             [
              0.3333333333333333,
              "#9c179e"
             ],
             [
              0.4444444444444444,
              "#bd3786"
             ],
             [
              0.5555555555555556,
              "#d8576b"
             ],
             [
              0.6666666666666666,
              "#ed7953"
             ],
             [
              0.7777777777777778,
              "#fb9f3a"
             ],
             [
              0.8888888888888888,
              "#fdca26"
             ],
             [
              1,
              "#f0f921"
             ]
            ],
            "type": "heatmap"
           }
          ],
          "heatmapgl": [
           {
            "colorbar": {
             "outlinewidth": 0,
             "ticks": ""
            },
            "colorscale": [
             [
              0,
              "#0d0887"
             ],
             [
              0.1111111111111111,
              "#46039f"
             ],
             [
              0.2222222222222222,
              "#7201a8"
             ],
             [
              0.3333333333333333,
              "#9c179e"
             ],
             [
              0.4444444444444444,
              "#bd3786"
             ],
             [
              0.5555555555555556,
              "#d8576b"
             ],
             [
              0.6666666666666666,
              "#ed7953"
             ],
             [
              0.7777777777777778,
              "#fb9f3a"
             ],
             [
              0.8888888888888888,
              "#fdca26"
             ],
             [
              1,
              "#f0f921"
             ]
            ],
            "type": "heatmapgl"
           }
          ],
          "histogram": [
           {
            "marker": {
             "pattern": {
              "fillmode": "overlay",
              "size": 10,
              "solidity": 0.2
             }
            },
            "type": "histogram"
           }
          ],
          "histogram2d": [
           {
            "colorbar": {
             "outlinewidth": 0,
             "ticks": ""
            },
            "colorscale": [
             [
              0,
              "#0d0887"
             ],
             [
              0.1111111111111111,
              "#46039f"
             ],
             [
              0.2222222222222222,
              "#7201a8"
             ],
             [
              0.3333333333333333,
              "#9c179e"
             ],
             [
              0.4444444444444444,
              "#bd3786"
             ],
             [
              0.5555555555555556,
              "#d8576b"
             ],
             [
              0.6666666666666666,
              "#ed7953"
             ],
             [
              0.7777777777777778,
              "#fb9f3a"
             ],
             [
              0.8888888888888888,
              "#fdca26"
             ],
             [
              1,
              "#f0f921"
             ]
            ],
            "type": "histogram2d"
           }
          ],
          "histogram2dcontour": [
           {
            "colorbar": {
             "outlinewidth": 0,
             "ticks": ""
            },
            "colorscale": [
             [
              0,
              "#0d0887"
             ],
             [
              0.1111111111111111,
              "#46039f"
             ],
             [
              0.2222222222222222,
              "#7201a8"
             ],
             [
              0.3333333333333333,
              "#9c179e"
             ],
             [
              0.4444444444444444,
              "#bd3786"
             ],
             [
              0.5555555555555556,
              "#d8576b"
             ],
             [
              0.6666666666666666,
              "#ed7953"
             ],
             [
              0.7777777777777778,
              "#fb9f3a"
             ],
             [
              0.8888888888888888,
              "#fdca26"
             ],
             [
              1,
              "#f0f921"
             ]
            ],
            "type": "histogram2dcontour"
           }
          ],
          "mesh3d": [
           {
            "colorbar": {
             "outlinewidth": 0,
             "ticks": ""
            },
            "type": "mesh3d"
           }
          ],
          "parcoords": [
           {
            "line": {
             "colorbar": {
              "outlinewidth": 0,
              "ticks": ""
             }
            },
            "type": "parcoords"
           }
          ],
          "pie": [
           {
            "automargin": true,
            "type": "pie"
           }
          ],
          "scatter": [
           {
            "fillpattern": {
             "fillmode": "overlay",
             "size": 10,
             "solidity": 0.2
            },
            "type": "scatter"
           }
          ],
          "scatter3d": [
           {
            "line": {
             "colorbar": {
              "outlinewidth": 0,
              "ticks": ""
             }
            },
            "marker": {
             "colorbar": {
              "outlinewidth": 0,
              "ticks": ""
             }
            },
            "type": "scatter3d"
           }
          ],
          "scattercarpet": [
           {
            "marker": {
             "colorbar": {
              "outlinewidth": 0,
              "ticks": ""
             }
            },
            "type": "scattercarpet"
           }
          ],
          "scattergeo": [
           {
            "marker": {
             "colorbar": {
              "outlinewidth": 0,
              "ticks": ""
             }
            },
            "type": "scattergeo"
           }
          ],
          "scattergl": [
           {
            "marker": {
             "colorbar": {
              "outlinewidth": 0,
              "ticks": ""
             }
            },
            "type": "scattergl"
           }
          ],
          "scattermapbox": [
           {
            "marker": {
             "colorbar": {
              "outlinewidth": 0,
              "ticks": ""
             }
            },
            "type": "scattermapbox"
           }
          ],
          "scatterpolar": [
           {
            "marker": {
             "colorbar": {
              "outlinewidth": 0,
              "ticks": ""
             }
            },
            "type": "scatterpolar"
           }
          ],
          "scatterpolargl": [
           {
            "marker": {
             "colorbar": {
              "outlinewidth": 0,
              "ticks": ""
             }
            },
            "type": "scatterpolargl"
           }
          ],
          "scatterternary": [
           {
            "marker": {
             "colorbar": {
              "outlinewidth": 0,
              "ticks": ""
             }
            },
            "type": "scatterternary"
           }
          ],
          "surface": [
           {
            "colorbar": {
             "outlinewidth": 0,
             "ticks": ""
            },
            "colorscale": [
             [
              0,
              "#0d0887"
             ],
             [
              0.1111111111111111,
              "#46039f"
             ],
             [
              0.2222222222222222,
              "#7201a8"
             ],
             [
              0.3333333333333333,
              "#9c179e"
             ],
             [
              0.4444444444444444,
              "#bd3786"
             ],
             [
              0.5555555555555556,
              "#d8576b"
             ],
             [
              0.6666666666666666,
              "#ed7953"
             ],
             [
              0.7777777777777778,
              "#fb9f3a"
             ],
             [
              0.8888888888888888,
              "#fdca26"
             ],
             [
              1,
              "#f0f921"
             ]
            ],
            "type": "surface"
           }
          ],
          "table": [
           {
            "cells": {
             "fill": {
              "color": "#EBF0F8"
             },
             "line": {
              "color": "white"
             }
            },
            "header": {
             "fill": {
              "color": "#C8D4E3"
             },
             "line": {
              "color": "white"
             }
            },
            "type": "table"
           }
          ]
         },
         "layout": {
          "annotationdefaults": {
           "arrowcolor": "#2a3f5f",
           "arrowhead": 0,
           "arrowwidth": 1
          },
          "autotypenumbers": "strict",
          "coloraxis": {
           "colorbar": {
            "outlinewidth": 0,
            "ticks": ""
           }
          },
          "colorscale": {
           "diverging": [
            [
             0,
             "#8e0152"
            ],
            [
             0.1,
             "#c51b7d"
            ],
            [
             0.2,
             "#de77ae"
            ],
            [
             0.3,
             "#f1b6da"
            ],
            [
             0.4,
             "#fde0ef"
            ],
            [
             0.5,
             "#f7f7f7"
            ],
            [
             0.6,
             "#e6f5d0"
            ],
            [
             0.7,
             "#b8e186"
            ],
            [
             0.8,
             "#7fbc41"
            ],
            [
             0.9,
             "#4d9221"
            ],
            [
             1,
             "#276419"
            ]
           ],
           "sequential": [
            [
             0,
             "#0d0887"
            ],
            [
             0.1111111111111111,
             "#46039f"
            ],
            [
             0.2222222222222222,
             "#7201a8"
            ],
            [
             0.3333333333333333,
             "#9c179e"
            ],
            [
             0.4444444444444444,
             "#bd3786"
            ],
            [
             0.5555555555555556,
             "#d8576b"
            ],
            [
             0.6666666666666666,
             "#ed7953"
            ],
            [
             0.7777777777777778,
             "#fb9f3a"
            ],
            [
             0.8888888888888888,
             "#fdca26"
            ],
            [
             1,
             "#f0f921"
            ]
           ],
           "sequentialminus": [
            [
             0,
             "#0d0887"
            ],
            [
             0.1111111111111111,
             "#46039f"
            ],
            [
             0.2222222222222222,
             "#7201a8"
            ],
            [
             0.3333333333333333,
             "#9c179e"
            ],
            [
             0.4444444444444444,
             "#bd3786"
            ],
            [
             0.5555555555555556,
             "#d8576b"
            ],
            [
             0.6666666666666666,
             "#ed7953"
            ],
            [
             0.7777777777777778,
             "#fb9f3a"
            ],
            [
             0.8888888888888888,
             "#fdca26"
            ],
            [
             1,
             "#f0f921"
            ]
           ]
          },
          "colorway": [
           "#636efa",
           "#EF553B",
           "#00cc96",
           "#ab63fa",
           "#FFA15A",
           "#19d3f3",
           "#FF6692",
           "#B6E880",
           "#FF97FF",
           "#FECB52"
          ],
          "font": {
           "color": "#2a3f5f"
          },
          "geo": {
           "bgcolor": "white",
           "lakecolor": "white",
           "landcolor": "#E5ECF6",
           "showlakes": true,
           "showland": true,
           "subunitcolor": "white"
          },
          "hoverlabel": {
           "align": "left"
          },
          "hovermode": "closest",
          "mapbox": {
           "style": "light"
          },
          "paper_bgcolor": "white",
          "plot_bgcolor": "#E5ECF6",
          "polar": {
           "angularaxis": {
            "gridcolor": "white",
            "linecolor": "white",
            "ticks": ""
           },
           "bgcolor": "#E5ECF6",
           "radialaxis": {
            "gridcolor": "white",
            "linecolor": "white",
            "ticks": ""
           }
          },
          "scene": {
           "xaxis": {
            "backgroundcolor": "#E5ECF6",
            "gridcolor": "white",
            "gridwidth": 2,
            "linecolor": "white",
            "showbackground": true,
            "ticks": "",
            "zerolinecolor": "white"
           },
           "yaxis": {
            "backgroundcolor": "#E5ECF6",
            "gridcolor": "white",
            "gridwidth": 2,
            "linecolor": "white",
            "showbackground": true,
            "ticks": "",
            "zerolinecolor": "white"
           },
           "zaxis": {
            "backgroundcolor": "#E5ECF6",
            "gridcolor": "white",
            "gridwidth": 2,
            "linecolor": "white",
            "showbackground": true,
            "ticks": "",
            "zerolinecolor": "white"
           }
          },
          "shapedefaults": {
           "line": {
            "color": "#2a3f5f"
           }
          },
          "ternary": {
           "aaxis": {
            "gridcolor": "white",
            "linecolor": "white",
            "ticks": ""
           },
           "baxis": {
            "gridcolor": "white",
            "linecolor": "white",
            "ticks": ""
           },
           "bgcolor": "#E5ECF6",
           "caxis": {
            "gridcolor": "white",
            "linecolor": "white",
            "ticks": ""
           }
          },
          "title": {
           "x": 0.05
          },
          "xaxis": {
           "automargin": true,
           "gridcolor": "white",
           "linecolor": "white",
           "ticks": "",
           "title": {
            "standoff": 15
           },
           "zerolinecolor": "white",
           "zerolinewidth": 2
          },
          "yaxis": {
           "automargin": true,
           "gridcolor": "white",
           "linecolor": "white",
           "ticks": "",
           "title": {
            "standoff": 15
           },
           "zerolinecolor": "white",
           "zerolinewidth": 2
          }
         }
        }
       }
      },
      "text/html": [
       "<div>                            <div id=\"06a1c39a-604c-48a5-85dd-fb1d30886f27\" class=\"plotly-graph-div\" style=\"height:525px; width:100%;\"></div>            <script type=\"text/javascript\">                require([\"plotly\"], function(Plotly) {                    window.PLOTLYENV=window.PLOTLYENV || {};                                    if (document.getElementById(\"06a1c39a-604c-48a5-85dd-fb1d30886f27\")) {                    Plotly.newPlot(                        \"06a1c39a-604c-48a5-85dd-fb1d30886f27\",                        [{\"coloraxis\":\"coloraxis\",\"hovertemplate\":\"Cancellations=%{z}\\u003cbr\\u003elatitude_dep=%{lat}\\u003cbr\\u003elongitude_dep=%{lon}\\u003cextra\\u003e\\u003c\\u002fextra\\u003e\",\"lat\":[-34.9281805,-36.0804766,-23.6983884,-30.5144881,-25.3455545,-28.86574,-27.4689682,-17.9566909,-24.8653253,-16.9206657,-35.2975906,-30.2962407,-12.46044,-32.2478964,-23.5263118,-23.8431724,-28.0023731,-20.35462625,-42.8825088,-30.7464139,-20.7370067,-41.4340813,-21.141956,-37.8142454,-34.195274,-20.7289898,-32.9192953,-23.357394,-31.9558933,-20.3111814,-34.7211905,-31.4299499,-20.4018085,-23.3782137,-26.6544338,-33.8698439,-31.0900743,-19.2569391,-35.115],\"lon\":[138.5999312,146.9162795,133.8812885,151.6656564,131.03696147470208,153.5659468,153.0234991,122.2240181,152.3516785,145.7721854,149.1012676,153.1135293,130.8410469,148.6026502,148.1618622,151.256132,153.4145987,148.956051815311,147.3281233,121.473223,116.8478592,147.1373496,149.1865149,144.9631732,142.1503146,139.4931522,151.7795348,119.7331631,115.8605855,118.5801181,135.8592218,152.9103525,148.5832137,150.5134227,153.0933668,151.2082848,150.9290159,146.8239537,147.3677778],\"name\":\"\",\"radius\":25,\"subplot\":\"mapbox\",\"z\":[1644.0,152.0,14.0,112.0,30.0,106.0,3732.0,106.0,26.0,428.0,1022.0,42.0,88.0,120.0,82.0,132.0,806.0,74.0,474.0,142.0,262.0,266.0,180.0,5760.0,94.0,32.0,296.0,222.0,1504.0,236.0,172.0,62.0,28.0,200.0,172.0,7734.0,68.0,224.0,122.0],\"type\":\"densitymapbox\"}],                        {\"template\":{\"data\":{\"histogram2dcontour\":[{\"type\":\"histogram2dcontour\",\"colorbar\":{\"outlinewidth\":0,\"ticks\":\"\"},\"colorscale\":[[0.0,\"#0d0887\"],[0.1111111111111111,\"#46039f\"],[0.2222222222222222,\"#7201a8\"],[0.3333333333333333,\"#9c179e\"],[0.4444444444444444,\"#bd3786\"],[0.5555555555555556,\"#d8576b\"],[0.6666666666666666,\"#ed7953\"],[0.7777777777777778,\"#fb9f3a\"],[0.8888888888888888,\"#fdca26\"],[1.0,\"#f0f921\"]]}],\"choropleth\":[{\"type\":\"choropleth\",\"colorbar\":{\"outlinewidth\":0,\"ticks\":\"\"}}],\"histogram2d\":[{\"type\":\"histogram2d\",\"colorbar\":{\"outlinewidth\":0,\"ticks\":\"\"},\"colorscale\":[[0.0,\"#0d0887\"],[0.1111111111111111,\"#46039f\"],[0.2222222222222222,\"#7201a8\"],[0.3333333333333333,\"#9c179e\"],[0.4444444444444444,\"#bd3786\"],[0.5555555555555556,\"#d8576b\"],[0.6666666666666666,\"#ed7953\"],[0.7777777777777778,\"#fb9f3a\"],[0.8888888888888888,\"#fdca26\"],[1.0,\"#f0f921\"]]}],\"heatmap\":[{\"type\":\"heatmap\",\"colorbar\":{\"outlinewidth\":0,\"ticks\":\"\"},\"colorscale\":[[0.0,\"#0d0887\"],[0.1111111111111111,\"#46039f\"],[0.2222222222222222,\"#7201a8\"],[0.3333333333333333,\"#9c179e\"],[0.4444444444444444,\"#bd3786\"],[0.5555555555555556,\"#d8576b\"],[0.6666666666666666,\"#ed7953\"],[0.7777777777777778,\"#fb9f3a\"],[0.8888888888888888,\"#fdca26\"],[1.0,\"#f0f921\"]]}],\"heatmapgl\":[{\"type\":\"heatmapgl\",\"colorbar\":{\"outlinewidth\":0,\"ticks\":\"\"},\"colorscale\":[[0.0,\"#0d0887\"],[0.1111111111111111,\"#46039f\"],[0.2222222222222222,\"#7201a8\"],[0.3333333333333333,\"#9c179e\"],[0.4444444444444444,\"#bd3786\"],[0.5555555555555556,\"#d8576b\"],[0.6666666666666666,\"#ed7953\"],[0.7777777777777778,\"#fb9f3a\"],[0.8888888888888888,\"#fdca26\"],[1.0,\"#f0f921\"]]}],\"contourcarpet\":[{\"type\":\"contourcarpet\",\"colorbar\":{\"outlinewidth\":0,\"ticks\":\"\"}}],\"contour\":[{\"type\":\"contour\",\"colorbar\":{\"outlinewidth\":0,\"ticks\":\"\"},\"colorscale\":[[0.0,\"#0d0887\"],[0.1111111111111111,\"#46039f\"],[0.2222222222222222,\"#7201a8\"],[0.3333333333333333,\"#9c179e\"],[0.4444444444444444,\"#bd3786\"],[0.5555555555555556,\"#d8576b\"],[0.6666666666666666,\"#ed7953\"],[0.7777777777777778,\"#fb9f3a\"],[0.8888888888888888,\"#fdca26\"],[1.0,\"#f0f921\"]]}],\"surface\":[{\"type\":\"surface\",\"colorbar\":{\"outlinewidth\":0,\"ticks\":\"\"},\"colorscale\":[[0.0,\"#0d0887\"],[0.1111111111111111,\"#46039f\"],[0.2222222222222222,\"#7201a8\"],[0.3333333333333333,\"#9c179e\"],[0.4444444444444444,\"#bd3786\"],[0.5555555555555556,\"#d8576b\"],[0.6666666666666666,\"#ed7953\"],[0.7777777777777778,\"#fb9f3a\"],[0.8888888888888888,\"#fdca26\"],[1.0,\"#f0f921\"]]}],\"mesh3d\":[{\"type\":\"mesh3d\",\"colorbar\":{\"outlinewidth\":0,\"ticks\":\"\"}}],\"scatter\":[{\"fillpattern\":{\"fillmode\":\"overlay\",\"size\":10,\"solidity\":0.2},\"type\":\"scatter\"}],\"parcoords\":[{\"type\":\"parcoords\",\"line\":{\"colorbar\":{\"outlinewidth\":0,\"ticks\":\"\"}}}],\"scatterpolargl\":[{\"type\":\"scatterpolargl\",\"marker\":{\"colorbar\":{\"outlinewidth\":0,\"ticks\":\"\"}}}],\"bar\":[{\"error_x\":{\"color\":\"#2a3f5f\"},\"error_y\":{\"color\":\"#2a3f5f\"},\"marker\":{\"line\":{\"color\":\"#E5ECF6\",\"width\":0.5},\"pattern\":{\"fillmode\":\"overlay\",\"size\":10,\"solidity\":0.2}},\"type\":\"bar\"}],\"scattergeo\":[{\"type\":\"scattergeo\",\"marker\":{\"colorbar\":{\"outlinewidth\":0,\"ticks\":\"\"}}}],\"scatterpolar\":[{\"type\":\"scatterpolar\",\"marker\":{\"colorbar\":{\"outlinewidth\":0,\"ticks\":\"\"}}}],\"histogram\":[{\"marker\":{\"pattern\":{\"fillmode\":\"overlay\",\"size\":10,\"solidity\":0.2}},\"type\":\"histogram\"}],\"scattergl\":[{\"type\":\"scattergl\",\"marker\":{\"colorbar\":{\"outlinewidth\":0,\"ticks\":\"\"}}}],\"scatter3d\":[{\"type\":\"scatter3d\",\"line\":{\"colorbar\":{\"outlinewidth\":0,\"ticks\":\"\"}},\"marker\":{\"colorbar\":{\"outlinewidth\":0,\"ticks\":\"\"}}}],\"scattermapbox\":[{\"type\":\"scattermapbox\",\"marker\":{\"colorbar\":{\"outlinewidth\":0,\"ticks\":\"\"}}}],\"scatterternary\":[{\"type\":\"scatterternary\",\"marker\":{\"colorbar\":{\"outlinewidth\":0,\"ticks\":\"\"}}}],\"scattercarpet\":[{\"type\":\"scattercarpet\",\"marker\":{\"colorbar\":{\"outlinewidth\":0,\"ticks\":\"\"}}}],\"carpet\":[{\"aaxis\":{\"endlinecolor\":\"#2a3f5f\",\"gridcolor\":\"white\",\"linecolor\":\"white\",\"minorgridcolor\":\"white\",\"startlinecolor\":\"#2a3f5f\"},\"baxis\":{\"endlinecolor\":\"#2a3f5f\",\"gridcolor\":\"white\",\"linecolor\":\"white\",\"minorgridcolor\":\"white\",\"startlinecolor\":\"#2a3f5f\"},\"type\":\"carpet\"}],\"table\":[{\"cells\":{\"fill\":{\"color\":\"#EBF0F8\"},\"line\":{\"color\":\"white\"}},\"header\":{\"fill\":{\"color\":\"#C8D4E3\"},\"line\":{\"color\":\"white\"}},\"type\":\"table\"}],\"barpolar\":[{\"marker\":{\"line\":{\"color\":\"#E5ECF6\",\"width\":0.5},\"pattern\":{\"fillmode\":\"overlay\",\"size\":10,\"solidity\":0.2}},\"type\":\"barpolar\"}],\"pie\":[{\"automargin\":true,\"type\":\"pie\"}]},\"layout\":{\"autotypenumbers\":\"strict\",\"colorway\":[\"#636efa\",\"#EF553B\",\"#00cc96\",\"#ab63fa\",\"#FFA15A\",\"#19d3f3\",\"#FF6692\",\"#B6E880\",\"#FF97FF\",\"#FECB52\"],\"font\":{\"color\":\"#2a3f5f\"},\"hovermode\":\"closest\",\"hoverlabel\":{\"align\":\"left\"},\"paper_bgcolor\":\"white\",\"plot_bgcolor\":\"#E5ECF6\",\"polar\":{\"bgcolor\":\"#E5ECF6\",\"angularaxis\":{\"gridcolor\":\"white\",\"linecolor\":\"white\",\"ticks\":\"\"},\"radialaxis\":{\"gridcolor\":\"white\",\"linecolor\":\"white\",\"ticks\":\"\"}},\"ternary\":{\"bgcolor\":\"#E5ECF6\",\"aaxis\":{\"gridcolor\":\"white\",\"linecolor\":\"white\",\"ticks\":\"\"},\"baxis\":{\"gridcolor\":\"white\",\"linecolor\":\"white\",\"ticks\":\"\"},\"caxis\":{\"gridcolor\":\"white\",\"linecolor\":\"white\",\"ticks\":\"\"}},\"coloraxis\":{\"colorbar\":{\"outlinewidth\":0,\"ticks\":\"\"}},\"colorscale\":{\"sequential\":[[0.0,\"#0d0887\"],[0.1111111111111111,\"#46039f\"],[0.2222222222222222,\"#7201a8\"],[0.3333333333333333,\"#9c179e\"],[0.4444444444444444,\"#bd3786\"],[0.5555555555555556,\"#d8576b\"],[0.6666666666666666,\"#ed7953\"],[0.7777777777777778,\"#fb9f3a\"],[0.8888888888888888,\"#fdca26\"],[1.0,\"#f0f921\"]],\"sequentialminus\":[[0.0,\"#0d0887\"],[0.1111111111111111,\"#46039f\"],[0.2222222222222222,\"#7201a8\"],[0.3333333333333333,\"#9c179e\"],[0.4444444444444444,\"#bd3786\"],[0.5555555555555556,\"#d8576b\"],[0.6666666666666666,\"#ed7953\"],[0.7777777777777778,\"#fb9f3a\"],[0.8888888888888888,\"#fdca26\"],[1.0,\"#f0f921\"]],\"diverging\":[[0,\"#8e0152\"],[0.1,\"#c51b7d\"],[0.2,\"#de77ae\"],[0.3,\"#f1b6da\"],[0.4,\"#fde0ef\"],[0.5,\"#f7f7f7\"],[0.6,\"#e6f5d0\"],[0.7,\"#b8e186\"],[0.8,\"#7fbc41\"],[0.9,\"#4d9221\"],[1,\"#276419\"]]},\"xaxis\":{\"gridcolor\":\"white\",\"linecolor\":\"white\",\"ticks\":\"\",\"title\":{\"standoff\":15},\"zerolinecolor\":\"white\",\"automargin\":true,\"zerolinewidth\":2},\"yaxis\":{\"gridcolor\":\"white\",\"linecolor\":\"white\",\"ticks\":\"\",\"title\":{\"standoff\":15},\"zerolinecolor\":\"white\",\"automargin\":true,\"zerolinewidth\":2},\"scene\":{\"xaxis\":{\"backgroundcolor\":\"#E5ECF6\",\"gridcolor\":\"white\",\"linecolor\":\"white\",\"showbackground\":true,\"ticks\":\"\",\"zerolinecolor\":\"white\",\"gridwidth\":2},\"yaxis\":{\"backgroundcolor\":\"#E5ECF6\",\"gridcolor\":\"white\",\"linecolor\":\"white\",\"showbackground\":true,\"ticks\":\"\",\"zerolinecolor\":\"white\",\"gridwidth\":2},\"zaxis\":{\"backgroundcolor\":\"#E5ECF6\",\"gridcolor\":\"white\",\"linecolor\":\"white\",\"showbackground\":true,\"ticks\":\"\",\"zerolinecolor\":\"white\",\"gridwidth\":2}},\"shapedefaults\":{\"line\":{\"color\":\"#2a3f5f\"}},\"annotationdefaults\":{\"arrowcolor\":\"#2a3f5f\",\"arrowhead\":0,\"arrowwidth\":1},\"geo\":{\"bgcolor\":\"white\",\"landcolor\":\"#E5ECF6\",\"subunitcolor\":\"white\",\"showland\":true,\"showlakes\":true,\"lakecolor\":\"white\"},\"title\":{\"x\":0.05},\"mapbox\":{\"style\":\"light\"}}},\"mapbox\":{\"domain\":{\"x\":[0.0,1.0],\"y\":[0.0,1.0]},\"center\":{\"lat\":-25,\"lon\":130},\"zoom\":2.5,\"style\":\"open-street-map\"},\"coloraxis\":{\"colorbar\":{\"title\":{\"text\":\"Cancellations\"}},\"colorscale\":[[0.0,\"#0d0887\"],[0.1111111111111111,\"#46039f\"],[0.2222222222222222,\"#7201a8\"],[0.3333333333333333,\"#9c179e\"],[0.4444444444444444,\"#bd3786\"],[0.5555555555555556,\"#d8576b\"],[0.6666666666666666,\"#ed7953\"],[0.7777777777777778,\"#fb9f3a\"],[0.8888888888888888,\"#fdca26\"],[1.0,\"#f0f921\"]]},\"legend\":{\"tracegroupgap\":0},\"margin\":{\"t\":60}},                        {\"responsive\": true}                    ).then(function(){\n",
       "                            \n",
       "var gd = document.getElementById('06a1c39a-604c-48a5-85dd-fb1d30886f27');\n",
       "var x = new MutationObserver(function (mutations, observer) {{\n",
       "        var display = window.getComputedStyle(gd).display;\n",
       "        if (!display || display === 'none') {{\n",
       "            console.log([gd, 'removed!']);\n",
       "            Plotly.purge(gd);\n",
       "            observer.disconnect();\n",
       "        }}\n",
       "}});\n",
       "\n",
       "// Listen for the removal of the full notebook cells\n",
       "var notebookContainer = gd.closest('#notebook-container');\n",
       "if (notebookContainer) {{\n",
       "    x.observe(notebookContainer, {childList: true});\n",
       "}}\n",
       "\n",
       "// Listen for the clearing of the current output cell\n",
       "var outputEl = gd.closest('.output');\n",
       "if (outputEl) {{\n",
       "    x.observe(outputEl, {childList: true});\n",
       "}}\n",
       "\n",
       "                        })                };                });            </script>        </div>"
      ]
     },
     "metadata": {},
     "output_type": "display_data"
    }
   ],
   "source": [
    "cn_dep = px.density_mapbox(df2020_geo, lat='latitude_dep', lon='longitude_dep', z='Cancellations', radius=25,\n",
    "                        center=dict(lat=-25, lon=130), zoom=2.5,\n",
    "                        mapbox_style=\"open-street-map\")\n",
    "cn_dep.show()"
   ]
  }
 ],
 "metadata": {
  "kernelspec": {
   "display_name": "Python 3",
   "language": "python",
   "name": "python3"
  },
  "language_info": {
   "codemirror_mode": {
    "name": "ipython",
    "version": 3
   },
   "file_extension": ".py",
   "mimetype": "text/x-python",
   "name": "python",
   "nbconvert_exporter": "python",
   "pygments_lexer": "ipython3",
   "version": "3.8.8"
  }
 },
 "nbformat": 4,
 "nbformat_minor": 5
}
